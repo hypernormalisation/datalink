{
 "cells": [
  {
   "cell_type": "code",
   "execution_count": 1,
   "metadata": {},
   "outputs": [
    {
     "name": "stdout",
     "output_type": "stream",
     "text": [
      "/home/sogilvy/miniconda3/envs/datalink/bin/python\n"
     ]
    }
   ],
   "source": [
    "import sys\n",
    "import warnings\n",
    "import logging\n",
    "warnings.filterwarnings('ignore')\n",
    "print(sys.executable)\n",
    "logging.basicConfig(format='%(levelname)s | %(message)s',\n",
    "                    level=logging.DEBUG,\n",
    "                    stream=sys.stdout)"
   ]
  },
  {
   "cell_type": "code",
   "execution_count": 2,
   "metadata": {},
   "outputs": [
    {
     "name": "stdout",
     "output_type": "stream",
     "text": [
      "DEBUG | loaded lazy attr 'SafeConfigParser': <class 'configparser.ConfigParser'>\n",
      "DEBUG | loaded lazy attr 'NativeStringIO': <class '_io.StringIO'>\n",
      "DEBUG | loaded lazy attr 'BytesIO': <class '_io.BytesIO'>\n"
     ]
    }
   ],
   "source": [
    "import datalink"
   ]
  },
  {
   "cell_type": "code",
   "execution_count": 3,
   "metadata": {},
   "outputs": [
    {
     "name": "stdout",
     "output_type": "stream",
     "text": [
      "INFO | db created at: sqlite:////tmp/my.db\n",
      "INFO | created table my_table\n",
      "DEBUG | Creating new database entry with id f5d9aa47-2138-45c9-b86b-65c3fd268bda.\n"
     ]
    }
   ],
   "source": [
    "my_data_fields = {'a': 0, 'b': 'a string', 'c': []}  # default entries\n",
    "MyClass = datalink.factory('MyClass', 'my_table', my_data_fields,\n",
    "                           database='/tmp/my.db')\n",
    "                           \n",
    "A = MyClass()    "
   ]
  }
 ],
 "metadata": {
  "kernelspec": {
   "display_name": "datalink",
   "language": "python",
   "name": "datalink"
  },
  "language_info": {
   "codemirror_mode": {
    "name": "ipython",
    "version": 3
   },
   "file_extension": ".py",
   "mimetype": "text/x-python",
   "name": "python",
   "nbconvert_exporter": "python",
   "pygments_lexer": "ipython3",
   "version": "3.7.5"
  }
 },
 "nbformat": 4,
 "nbformat_minor": 2
}
