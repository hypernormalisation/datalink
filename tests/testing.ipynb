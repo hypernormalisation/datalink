{
 "cells": [
  {
   "cell_type": "code",
   "execution_count": 1,
   "metadata": {},
   "outputs": [],
   "source": [
    "import sys\n",
    "import warnings\n",
    "import logging\n",
    "warnings.filterwarnings('ignore')\n",
    "print(sys.executable)\n",
    "logging.basicConfig(format='%(levelname)s | %(message)s',\n",
    "                    level=logging.DEBUG,\n",
    "                    stream=sys.stdout)"
   ]
  },
  {
   "cell_type": "code",
   "execution_count": 2,
   "metadata": {},
   "outputs": [],
   "source": [
    "import sqlalchemy\n",
    "# help(sqlalchemy.engine.url.URL)"
   ]
  },
  {
   "cell_type": "code",
   "execution_count": 3,
   "metadata": {},
   "outputs": [],
   "source": [
    "sqlalchemy.engine.url.URL('postgres', database='/tmp/test.db')"
   ]
  },
  {
   "cell_type": "code",
   "execution_count": 4,
   "metadata": {},
   "outputs": [],
   "source": [
    "# sqlalchemy.create_engine('sqlite:////tmp/test.db')"
   ]
  },
  {
   "cell_type": "code",
   "execution_count": 5,
   "metadata": {},
   "outputs": [
    {
     "name": "stdout",
     "output_type": "stream",
     "text": [
      "DEBUG | loaded lazy attr 'SafeConfigParser': <class 'configparser.ConfigParser'>\n",
      "DEBUG | loaded lazy attr 'NativeStringIO': <class '_io.StringIO'>\n",
      "DEBUG | loaded lazy attr 'BytesIO': <class '_io.BytesIO'>\n"
     ]
    }
   ],
   "source": [
    "import datalink"
   ]
  },
  {
   "cell_type": "code",
   "execution_count": 7,
   "metadata": {},
   "outputs": [],
   "source": [
    "# A = datalink.factory('A', 'mytable', {'a': 0, 'b': 'a string', 'c': []},\n",
    "#                      database='/tmp/ntest.db')\n",
    "# 'sqlite:////tmp/ntest.db'\n",
    "# A = datalink.factory('A', 'mytable', {'a': 0, 'b': 'a string', 'c': []},\n",
    "#                      url='sqlite:////tmp/ntest.db')\n",
    "A = datalink.factory('A', 'mytable', {'a': 0, 'b': 'a string', 'c': []},\n",
    "                     dialect='postgres', database='my_test_db', username='sogilvy', host='localhost')"
   ]
  },
  {
   "cell_type": "code",
   "execution_count": 8,
   "metadata": {},
   "outputs": [
    {
     "data": {
      "text/plain": [
       "'postgres://sogilvy@localhost/my_test_db'"
      ]
     },
     "execution_count": 8,
     "metadata": {},
     "output_type": "execute_result"
    }
   ],
   "source": [
    "str(A._url)"
   ]
  },
  {
   "cell_type": "code",
   "execution_count": 9,
   "metadata": {},
   "outputs": [
    {
     "name": "stdout",
     "output_type": "stream",
     "text": [
      "INFO | db created at: postgres://sogilvy@localhost/my_test_db\n",
      "DEBUG | Creating new database entry with id d4954eef-ac45-41ec-b10d-e0df28bafe26.\n"
     ]
    }
   ],
   "source": [
    "a=A()"
   ]
  },
  {
   "cell_type": "code",
   "execution_count": 10,
   "metadata": {},
   "outputs": [
    {
     "data": {
      "text/plain": [
       "{'a': 0,\n",
       " 'b': 'a string',\n",
       " 'c': [],\n",
       " 'id': 'd4954eef-ac45-41ec-b10d-e0df28bafe26'}"
      ]
     },
     "execution_count": 10,
     "metadata": {},
     "output_type": "execute_result"
    }
   ],
   "source": [
    "a.data"
   ]
  },
  {
   "cell_type": "code",
   "execution_count": 11,
   "metadata": {},
   "outputs": [
    {
     "name": "stdout",
     "output_type": "stream",
     "text": [
      "DEBUG | Updating existing database entry for id d4954eef-ac45-41ec-b10d-e0df28bafe26.\n"
     ]
    }
   ],
   "source": [
    "a.a = 2"
   ]
  },
  {
   "cell_type": "code",
   "execution_count": 12,
   "metadata": {},
   "outputs": [
    {
     "data": {
      "text/plain": [
       "'postgres://sogilvy@localhost/my_test_db'"
      ]
     },
     "execution_count": 12,
     "metadata": {},
     "output_type": "execute_result"
    }
   ],
   "source": [
    "a.url"
   ]
  },
  {
   "cell_type": "code",
   "execution_count": null,
   "metadata": {},
   "outputs": [],
   "source": []
  }
 ],
 "metadata": {
  "kernelspec": {
   "display_name": "datalink",
   "language": "python",
   "name": "datalink"
  },
  "language_info": {
   "codemirror_mode": {
    "name": "ipython",
    "version": 3
   },
   "file_extension": ".py",
   "mimetype": "text/x-python",
   "name": "python",
   "nbconvert_exporter": "python",
   "pygments_lexer": "ipython3",
   "version": "3.7.5"
  }
 },
 "nbformat": 4,
 "nbformat_minor": 2
}
