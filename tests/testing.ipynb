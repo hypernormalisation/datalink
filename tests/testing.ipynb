{
 "cells": [
  {
   "cell_type": "code",
   "execution_count": 1,
   "metadata": {},
   "outputs": [],
   "source": [
    "import logging\n",
    "import warnings\n",
    "import datalink\n",
    "import sys\n",
    "\n",
    "warnings.filterwarnings('ignore')\n",
    "logging.basicConfig(format='%(levelname)s | %(message)s',\n",
    "                    level=logging.DEBUG,\n",
    "                    stream=sys.stdout)\n",
    "log = logging.getLogger(__name__)"
   ]
  },
  {
   "cell_type": "code",
   "execution_count": 2,
   "metadata": {},
   "outputs": [
    {
     "name": "stdout",
     "output_type": "stream",
     "text": [
      "client_id\n"
     ]
    }
   ],
   "source": [
    "MyStore = datalink.link_factory(name='MyStore', db_path='/tmp/test2.db', table_name='data',\n",
    "                                lookup='client_id',\n",
    "                                data_fields={'name': None, 'age': None, 'postcode': None})"
   ]
  },
  {
   "cell_type": "code",
   "execution_count": 8,
   "metadata": {},
   "outputs": [
    {
     "name": "stdout",
     "output_type": "stream",
     "text": [
      "{'client_id': '2001'}\n",
      "lookup dict: {'client_id': '2001'}\n",
      "DEBUG | Loading data corresponding to uuid 6a327385-ae7e-5f0c-9333-e6a4c0e5fa45\n",
      "{'table_name': 'data', 'db_path': '/tmp/test2.db', 'lookup': {'client_id': '2001'}}\n",
      "table_name\n",
      "db_path\n",
      "lookup\n"
     ]
    }
   ],
   "source": [
    "s = MyStore(client_id='2001')\n",
    "s.update(name='Jane Doe', age=40, postcode='L20 2FF')"
   ]
  }
 ],
 "metadata": {
  "kernelspec": {
   "display_name": "datalink",
   "language": "python",
   "name": "datalink"
  },
  "language_info": {
   "codemirror_mode": {
    "name": "ipython",
    "version": 3
   },
   "file_extension": ".py",
   "mimetype": "text/x-python",
   "name": "python",
   "nbconvert_exporter": "python",
   "pygments_lexer": "ipython3",
   "version": "3.7.3"
  }
 },
 "nbformat": 4,
 "nbformat_minor": 2
}
