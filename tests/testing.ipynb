{
 "cells": [
  {
   "cell_type": "code",
   "execution_count": 1,
   "metadata": {},
   "outputs": [
    {
     "name": "stdout",
     "output_type": "stream",
     "text": [
      "/home/sogilvy/miniconda3/envs/datalink/bin/python\n"
     ]
    }
   ],
   "source": [
    "import sys\n",
    "print(sys.executable)"
   ]
  },
  {
   "cell_type": "code",
   "execution_count": 2,
   "metadata": {},
   "outputs": [],
   "source": [
    "import logging\n",
    "import warnings\n",
    "import datalink\n",
    "import sys\n",
    "\n",
    "warnings.filterwarnings('ignore')\n",
    "logging.basicConfig(format='%(levelname)s | %(message)s',\n",
    "                    level=logging.DEBUG,\n",
    "                    stream=sys.stdout)\n",
    "log = logging.getLogger(__name__)"
   ]
  },
  {
   "cell_type": "code",
   "execution_count": 3,
   "metadata": {},
   "outputs": [],
   "source": [
    "MyStore = datalink.link_factory(name='MyStore', db_path='/tmp/test.db', table_name='data',\n",
    "                                data_fields={'name': None, 'age': None, 'postcode': None})"
   ]
  },
  {
   "cell_type": "code",
   "execution_count": 4,
   "metadata": {},
   "outputs": [
    {
     "name": "stdout",
     "output_type": "stream",
     "text": [
      "DEBUG | Creating database: /tmp/test.db\n",
      "INFO | - db created at path: /tmp/test.db\n",
      "DEBUG | Creating new database entry with id 2001.\n",
      "DEBUG | Updating existing database entry for id 2001.\n"
     ]
    }
   ],
   "source": [
    "s = MyStore('2001')\n",
    "s.update(name='Jane Doe', age=40, postcode='L20 2FF')"
   ]
  },
  {
   "cell_type": "code",
   "execution_count": 5,
   "metadata": {},
   "outputs": [
    {
     "name": "stdout",
     "output_type": "stream",
     "text": [
      "DEBUG | Creating new database entry with id 2a63f069-b4b5-4d9e-81d2-5cc5d7b47624.\n"
     ]
    }
   ],
   "source": [
    "s2 = MyStore(name='Jeff Birch', age=30, postcode='K54 4TX')"
   ]
  },
  {
   "cell_type": "code",
   "execution_count": 6,
   "metadata": {},
   "outputs": [
    {
     "name": "stdout",
     "output_type": "stream",
     "text": [
      "DEBUG | Updating existing database entry for id 2a63f069-b4b5-4d9e-81d2-5cc5d7b47624.\n"
     ]
    },
    {
     "data": {
      "text/plain": [
       "{'name': 'Jeff A Birch', 'age': 30, 'postcode': 'K54 4TX'}"
      ]
     },
     "execution_count": 6,
     "metadata": {},
     "output_type": "execute_result"
    }
   ],
   "source": [
    "s2.name = 'Jeff A Birch'\n",
    "s2.data\n",
    "my_id = s2.id"
   ]
  },
  {
   "cell_type": "code",
   "execution_count": 7,
   "metadata": {},
   "outputs": [
    {
     "name": "stdout",
     "output_type": "stream",
     "text": [
      "DEBUG | Loading data corresponding to ID: 2a63f069-b4b5-4d9e-81d2-5cc5d7b47624\n",
      "DEBUG | Updating existing database entry for id 2a63f069-b4b5-4d9e-81d2-5cc5d7b47624.\n"
     ]
    }
   ],
   "source": [
    "s3 = MyStore(my_id, name='Jeff Birch', age=32, postcode='K54 4TX')"
   ]
  },
  {
   "cell_type": "code",
   "execution_count": 8,
   "metadata": {},
   "outputs": [
    {
     "name": "stdout",
     "output_type": "stream",
     "text": [
      "DEBUG | Loading data corresponding to ID: 2a63f069-b4b5-4d9e-81d2-5cc5d7b47624\n"
     ]
    },
    {
     "data": {
      "text/plain": [
       "{'name': 'Jeff Birch', 'age': 32, 'postcode': 'K54 4TX'}"
      ]
     },
     "execution_count": 8,
     "metadata": {},
     "output_type": "execute_result"
    },
    {
     "data": {
      "text/plain": [
       "'2a63f069-b4b5-4d9e-81d2-5cc5d7b47624'"
      ]
     },
     "execution_count": 8,
     "metadata": {},
     "output_type": "execute_result"
    }
   ],
   "source": [
    "s3 = MyStore(my_id)\n",
    "s3.data\n",
    "s3.id"
   ]
  },
  {
   "cell_type": "code",
   "execution_count": 9,
   "metadata": {},
   "outputs": [],
   "source": [
    "MyStore = datalink.link_factory(name='MyStore', db_path='/etc/test.db', table_name='data',\n",
    "                                data_fields={'name': None, 'age': None, 'postcode': None})"
   ]
  },
  {
   "cell_type": "code",
   "execution_count": null,
   "metadata": {},
   "outputs": [],
   "source": []
  },
  {
   "cell_type": "code",
   "execution_count": 10,
   "metadata": {},
   "outputs": [],
   "source": [
    "Client = datalink.link_factory(name=\"Client\", db_path='/tmp/clients.db', table_name='clients',\n",
    "                              data_fields={'name': None, 'age': None, 'favourite_store': 'Hot Rods'})"
   ]
  },
  {
   "cell_type": "code",
   "execution_count": 11,
   "metadata": {},
   "outputs": [
    {
     "name": "stdout",
     "output_type": "stream",
     "text": [
      "DEBUG | Creating database: /tmp/clients.db\n",
      "INFO | - db created at path: /tmp/clients.db\n",
      "DEBUG | Creating new database entry with id aaa2f444-e93c-41b4-acfb-1de47b9d18c8.\n"
     ]
    }
   ],
   "source": [
    "gavin = Client(name='Gavin Kirby', age=31, favourite_store='The big sex store')"
   ]
  },
  {
   "cell_type": "code",
   "execution_count": 12,
   "metadata": {},
   "outputs": [
    {
     "name": "stdout",
     "output_type": "stream",
     "text": [
      "DEBUG | Creating new database entry with id 1f581e84-2c19-4cf6-a177-5deab9177921.\n"
     ]
    }
   ],
   "source": [
    "will = Client(name='Will', age=31, favourite_store='MyStore')"
   ]
  },
  {
   "cell_type": "code",
   "execution_count": 13,
   "metadata": {},
   "outputs": [],
   "source": [
    "del(gavin, will)"
   ]
  },
  {
   "cell_type": "code",
   "execution_count": 14,
   "metadata": {},
   "outputs": [
    {
     "name": "stdout",
     "output_type": "stream",
     "text": [
      "DEBUG | Creating new database entry with id 8d513e7b-6efb-42d1-a868-47d6844703c1.\n"
     ]
    },
    {
     "data": {
      "text/plain": [
       "<datalink.link_factory.<locals>.NewClass at 0x7fb942a1ced0>"
      ]
     },
     "execution_count": 14,
     "metadata": {},
     "output_type": "execute_result"
    }
   ],
   "source": [
    "Client('8d513e7b-6efb-42d1-a868-47d6844703c1', favourite_store='the bigger sex store')"
   ]
  },
  {
   "cell_type": "code",
   "execution_count": 16,
   "metadata": {},
   "outputs": [
    {
     "name": "stdout",
     "output_type": "stream",
     "text": [
      "DEBUG | Creating new database entry with id thisisliam.\n"
     ]
    }
   ],
   "source": [
    "liam = Client('thisisliam', name='Liam', age=29, favourite_store=\"McChomskies\")"
   ]
  },
  {
   "cell_type": "code",
   "execution_count": 17,
   "metadata": {},
   "outputs": [],
   "source": [
    "Exchange = datalink.link_factory(name=\"Exchange\", db_path='/tmp/exchanges.db', table_name='exchanges',\n",
    "                                 data_fields={'name': None, 'est': None, 'assets': ['BTC']})"
   ]
  },
  {
   "cell_type": "code",
   "execution_count": 18,
   "metadata": {},
   "outputs": [
    {
     "name": "stdout",
     "output_type": "stream",
     "text": [
      "DEBUG | Creating database: /tmp/exchanges.db\n",
      "INFO | - db created at path: /tmp/exchanges.db\n",
      "DEBUG | Creating new database entry with id exmo.\n"
     ]
    }
   ],
   "source": [
    "exmo = Exchange('exmo', name='exmo', est=2015, assets=['BTC', 'XRP', 'ETH'])"
   ]
  },
  {
   "cell_type": "code",
   "execution_count": 19,
   "metadata": {},
   "outputs": [
    {
     "name": "stdout",
     "output_type": "stream",
     "text": [
      "DEBUG | Updating existing database entry for id exmo.\n"
     ]
    }
   ],
   "source": [
    "exmo.assets = ['BTC', 'XRP', 'ETH', 'XRP']"
   ]
  },
  {
   "cell_type": "code",
   "execution_count": 20,
   "metadata": {},
   "outputs": [],
   "source": [
    "exmo.assets.append('XRM')"
   ]
  },
  {
   "cell_type": "code",
   "execution_count": 21,
   "metadata": {},
   "outputs": [
    {
     "data": {
      "text/plain": [
       "['BTC', 'XRP', 'ETH', 'XRP', 'XRM']"
      ]
     },
     "execution_count": 21,
     "metadata": {},
     "output_type": "execute_result"
    }
   ],
   "source": [
    "exmo.assets"
   ]
  },
  {
   "cell_type": "code",
   "execution_count": 22,
   "metadata": {},
   "outputs": [
    {
     "data": {
      "text/plain": [
       "'exxmo'"
      ]
     },
     "execution_count": 22,
     "metadata": {},
     "output_type": "execute_result"
    }
   ],
   "source": [
    "exmo.name.replace('ex', 'exx')"
   ]
  },
  {
   "cell_type": "code",
   "execution_count": 23,
   "metadata": {},
   "outputs": [
    {
     "data": {
      "text/plain": [
       "['__add__',\n",
       " '__class__',\n",
       " '__contains__',\n",
       " '__delattr__',\n",
       " '__dir__',\n",
       " '__doc__',\n",
       " '__eq__',\n",
       " '__format__',\n",
       " '__ge__',\n",
       " '__getattribute__',\n",
       " '__getitem__',\n",
       " '__getnewargs__',\n",
       " '__gt__',\n",
       " '__hash__',\n",
       " '__init__',\n",
       " '__init_subclass__',\n",
       " '__iter__',\n",
       " '__le__',\n",
       " '__len__',\n",
       " '__lt__',\n",
       " '__mod__',\n",
       " '__mul__',\n",
       " '__ne__',\n",
       " '__new__',\n",
       " '__reduce__',\n",
       " '__reduce_ex__',\n",
       " '__repr__',\n",
       " '__rmod__',\n",
       " '__rmul__',\n",
       " '__setattr__',\n",
       " '__sizeof__',\n",
       " '__str__',\n",
       " '__subclasshook__',\n",
       " 'capitalize',\n",
       " 'casefold',\n",
       " 'center',\n",
       " 'count',\n",
       " 'encode',\n",
       " 'endswith',\n",
       " 'expandtabs',\n",
       " 'find',\n",
       " 'format',\n",
       " 'format_map',\n",
       " 'index',\n",
       " 'isalnum',\n",
       " 'isalpha',\n",
       " 'isascii',\n",
       " 'isdecimal',\n",
       " 'isdigit',\n",
       " 'isidentifier',\n",
       " 'islower',\n",
       " 'isnumeric',\n",
       " 'isprintable',\n",
       " 'isspace',\n",
       " 'istitle',\n",
       " 'isupper',\n",
       " 'join',\n",
       " 'ljust',\n",
       " 'lower',\n",
       " 'lstrip',\n",
       " 'maketrans',\n",
       " 'partition',\n",
       " 'replace',\n",
       " 'rfind',\n",
       " 'rindex',\n",
       " 'rjust',\n",
       " 'rpartition',\n",
       " 'rsplit',\n",
       " 'rstrip',\n",
       " 'split',\n",
       " 'splitlines',\n",
       " 'startswith',\n",
       " 'strip',\n",
       " 'swapcase',\n",
       " 'title',\n",
       " 'translate',\n",
       " 'upper',\n",
       " 'zfill']"
      ]
     },
     "execution_count": 23,
     "metadata": {},
     "output_type": "execute_result"
    }
   ],
   "source": [
    "dir(str)"
   ]
  },
  {
   "cell_type": "code",
   "execution_count": null,
   "metadata": {},
   "outputs": [],
   "source": []
  },
  {
   "cell_type": "code",
   "execution_count": 25,
   "metadata": {},
   "outputs": [],
   "source": [
    "class mylist(list):\n",
    "    def append(self, term):\n",
    "        super().append(term)\n",
    "        print(f'i added a term: {term}')\n",
    "        \n",
    "l = mylist([1,3,4])"
   ]
  },
  {
   "cell_type": "code",
   "execution_count": 26,
   "metadata": {},
   "outputs": [
    {
     "name": "stdout",
     "output_type": "stream",
     "text": [
      "i added a term: 5\n"
     ]
    }
   ],
   "source": [
    "l.append(5)"
   ]
  },
  {
   "cell_type": "code",
   "execution_count": 47,
   "metadata": {},
   "outputs": [],
   "source": [
    "from weakref import WeakKeyDictionary\n",
    "import uuid\n",
    "\n",
    "# class MyDescriptor():\n",
    "#     def __init__(self):\n",
    "#         self.default = None\n",
    "#         self.values = WeakKeyDictionary()\n",
    "#     def __get__(self, instance, owner):\n",
    "#         return self.values.get(instance, self.default)\n",
    "#     def __set__(self, instance, value):\n",
    "        \n",
    "\n",
    "class Event:\n",
    "    observers = WeakKeyDictionary()\n",
    "    def __init__(self):\n",
    "        super().__setattr__('id', uuid.uuid4())\n",
    "        self.__class__.observers[id] = self\n",
    "        super().__setattr__('a', [10, 20, 30])\n",
    "        super().__setattr__('b', 15)\n",
    "\n",
    "    def __setattr__(self, attr, value):\n",
    "        print(f'attribute {attr} changed')\n",
    "        super().__setattr__(attr, value)\n",
    "        \n",
    "class mylist(list):\n",
    "    "
   ]
  },
  {
   "cell_type": "code",
   "execution_count": 48,
   "metadata": {},
   "outputs": [
    {
     "name": "stdout",
     "output_type": "stream",
     "text": [
      "attribute a changed\n"
     ]
    }
   ],
   "source": [
    "a = Event()\n",
    "a.a = [1,2,3]"
   ]
  },
  {
   "cell_type": "code",
   "execution_count": 34,
   "metadata": {},
   "outputs": [],
   "source": [
    "a.a.append(4)"
   ]
  },
  {
   "cell_type": "code",
   "execution_count": null,
   "metadata": {},
   "outputs": [],
   "source": []
  }
 ],
 "metadata": {
  "kernelspec": {
   "display_name": "datalink",
   "language": "python",
   "name": "datalink"
  },
  "language_info": {
   "codemirror_mode": {
    "name": "ipython",
    "version": 3
   },
   "file_extension": ".py",
   "mimetype": "text/x-python",
   "name": "python",
   "nbconvert_exporter": "python",
   "pygments_lexer": "ipython3",
   "version": "3.7.5"
  }
 },
 "nbformat": 4,
 "nbformat_minor": 2
}
