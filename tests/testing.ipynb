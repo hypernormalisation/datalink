{
 "cells": [
  {
   "cell_type": "code",
   "execution_count": 1,
   "metadata": {},
   "outputs": [],
   "source": [
    "import sys\n",
    "print(sys.executable)"
   ]
  },
  {
   "cell_type": "code",
   "execution_count": 2,
   "metadata": {},
   "outputs": [],
   "source": [
    "import logging\n",
    "import warnings\n",
    "import datalink\n",
    "import sys\n",
    "\n",
    "warnings.filterwarnings('ignore')\n",
    "logging.basicConfig(format='%(levelname)s | %(message)s',\n",
    "                    level=logging.DEBUG,\n",
    "                    stream=sys.stdout)\n",
    "log = logging.getLogger(__name__)"
   ]
  },
  {
   "cell_type": "code",
   "execution_count": 3,
   "metadata": {},
   "outputs": [],
   "source": [
    "MyStore = datalink.link_factory(name='MyStore', db_path='/tmp/test.db', table_name='data',\n",
    "                                data_fields={'name': None, 'age': None, 'postcode': None})"
   ]
  },
  {
   "cell_type": "code",
   "execution_count": 4,
   "metadata": {},
   "outputs": [
    {
     "name": "stdout",
     "output_type": "stream",
     "text": [
      "DEBUG | Found id 2001\n",
      "DEBUG | Updating existing database entry for id 2001.\n"
     ]
    }
   ],
   "source": [
    "s = MyStore('2001')\n",
    "s.update(name='Jane Doe', age=40, postcode='L20 2FF')"
   ]
  },
  {
   "cell_type": "code",
   "execution_count": 5,
   "metadata": {},
   "outputs": [
    {
     "name": "stdout",
     "output_type": "stream",
     "text": [
      "DEBUG | Creating new database entry with id fc7373ce-e94e-4942-be6c-39448209716a.\n"
     ]
    }
   ],
   "source": [
    "s2 = MyStore(name='Jeff Birch', age=30, postcode='K54 4TX')"
   ]
  },
  {
   "cell_type": "code",
   "execution_count": 6,
   "metadata": {},
   "outputs": [
    {
     "name": "stdout",
     "output_type": "stream",
     "text": [
      "DEBUG | Found id fc7373ce-e94e-4942-be6c-39448209716a\n",
      "DEBUG | Updating existing database entry for id fc7373ce-e94e-4942-be6c-39448209716a.\n"
     ]
    },
    {
     "data": {
      "text/plain": [
       "{'name': 'Jeff A Birch', 'age': 30, 'postcode': 'K54 4TX'}"
      ]
     },
     "execution_count": 6,
     "metadata": {},
     "output_type": "execute_result"
    }
   ],
   "source": [
    "s2.name = 'Jeff A Birch'\n",
    "s2.data"
   ]
  },
  {
   "cell_type": "code",
   "execution_count": 7,
   "metadata": {},
   "outputs": [
    {
     "name": "stdout",
     "output_type": "stream",
     "text": [
      "DEBUG | Found id 876979bc-5047-4989-ac2c-8133401ba89c\n",
      "DEBUG | Loading data corresponding to ID: 876979bc-5047-4989-ac2c-8133401ba89c\n",
      "DEBUG | Found id 876979bc-5047-4989-ac2c-8133401ba89c\n",
      "DEBUG | Updating existing database entry for id 876979bc-5047-4989-ac2c-8133401ba89c.\n"
     ]
    }
   ],
   "source": [
    "s3 = MyStore('876979bc-5047-4989-ac2c-8133401ba89c', name='Jeff Birch', age=30, postcode='K54 4TX')"
   ]
  },
  {
   "cell_type": "code",
   "execution_count": 8,
   "metadata": {},
   "outputs": [
    {
     "name": "stdout",
     "output_type": "stream",
     "text": [
      "DEBUG | Found id 876979bc-5047-4989-ac2c-8133401ba89c\n",
      "DEBUG | Loading data corresponding to ID: 876979bc-5047-4989-ac2c-8133401ba89c\n"
     ]
    },
    {
     "data": {
      "text/plain": [
       "{'name': 'Jeff Birch', 'age': 30, 'postcode': 'K54 4TX'}"
      ]
     },
     "execution_count": 8,
     "metadata": {},
     "output_type": "execute_result"
    }
   ],
   "source": [
    "s3 = MyStore('876979bc-5047-4989-ac2c-8133401ba89c')\n",
    "s3.data"
   ]
  }
 ],
 "metadata": {
  "kernelspec": {
   "display_name": "datalink",
   "language": "python",
   "name": "datalink"
  },
  "language_info": {
   "codemirror_mode": {
    "name": "ipython",
    "version": 3
   },
   "file_extension": ".py",
   "mimetype": "text/x-python",
   "name": "python",
   "nbconvert_exporter": "python",
   "pygments_lexer": "ipython3",
   "version": "3.7.5"
  }
 },
 "nbformat": 4,
 "nbformat_minor": 2
}
