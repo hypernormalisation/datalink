{
 "cells": [
  {
   "cell_type": "code",
   "execution_count": 1,
   "metadata": {},
   "outputs": [
    {
     "name": "stdout",
     "output_type": "stream",
     "text": [
      "/home/sogilvy/miniconda3/envs/datalink/bin/python\n"
     ]
    }
   ],
   "source": [
    "import sys\n",
    "print(sys.executable)"
   ]
  },
  {
   "cell_type": "code",
   "execution_count": 2,
   "metadata": {},
   "outputs": [],
   "source": [
    "import logging\n",
    "import warnings\n",
    "import datalink\n",
    "import sys\n",
    "\n",
    "warnings.filterwarnings('ignore')\n",
    "logging.basicConfig(format='%(levelname)s | %(message)s',\n",
    "                    level=logging.DEBUG,\n",
    "                    stream=sys.stdout)\n",
    "log = logging.getLogger(__name__)"
   ]
  },
  {
   "cell_type": "code",
   "execution_count": 3,
   "metadata": {},
   "outputs": [],
   "source": [
    "MyStore = datalink.link_factory(name='MyStore', db_path='/tmp/test.db', table_name='data',\n",
    "                                data_fields={'name': None, 'age': None, 'postcode': None})"
   ]
  },
  {
   "cell_type": "code",
   "execution_count": 4,
   "metadata": {},
   "outputs": [
    {
     "name": "stdout",
     "output_type": "stream",
     "text": [
      "DEBUG | Loading data corresponding to ID: 2001\n",
      "DEBUG | Updating existing database entry for id 2001.\n"
     ]
    }
   ],
   "source": [
    "s = MyStore('2001')\n",
    "s.update(name='Jane Doe', age=40, postcode='L20 2FF')"
   ]
  },
  {
   "cell_type": "code",
   "execution_count": 5,
   "metadata": {},
   "outputs": [
    {
     "name": "stdout",
     "output_type": "stream",
     "text": [
      "DEBUG | Creating new database entry with id 03c45079-04d9-45b4-aec7-0a7148114f44.\n"
     ]
    }
   ],
   "source": [
    "s2 = MyStore(name='Jeff Birch', age=30, postcode='K54 4TX')"
   ]
  },
  {
   "cell_type": "code",
   "execution_count": 6,
   "metadata": {},
   "outputs": [
    {
     "name": "stdout",
     "output_type": "stream",
     "text": [
      "DEBUG | Updating existing database entry for id 03c45079-04d9-45b4-aec7-0a7148114f44.\n"
     ]
    },
    {
     "data": {
      "text/plain": [
       "{'name': 'Jeff A Birch', 'age': 30, 'postcode': 'K54 4TX'}"
      ]
     },
     "execution_count": 6,
     "metadata": {},
     "output_type": "execute_result"
    }
   ],
   "source": [
    "s2.name = 'Jeff A Birch'\n",
    "s2.data\n",
    "my_id = s2.id"
   ]
  },
  {
   "cell_type": "code",
   "execution_count": 7,
   "metadata": {},
   "outputs": [
    {
     "name": "stdout",
     "output_type": "stream",
     "text": [
      "DEBUG | Loading data corresponding to ID: 03c45079-04d9-45b4-aec7-0a7148114f44\n",
      "DEBUG | Updating existing database entry for id 03c45079-04d9-45b4-aec7-0a7148114f44.\n"
     ]
    }
   ],
   "source": [
    "s3 = MyStore(my_id, name='Jeff Birch', age=32, postcode='K54 4TX')"
   ]
  },
  {
   "cell_type": "code",
   "execution_count": 8,
   "metadata": {},
   "outputs": [
    {
     "name": "stdout",
     "output_type": "stream",
     "text": [
      "DEBUG | Loading data corresponding to ID: 03c45079-04d9-45b4-aec7-0a7148114f44\n"
     ]
    },
    {
     "data": {
      "text/plain": [
       "{'name': 'Jeff Birch', 'age': 32, 'postcode': 'K54 4TX'}"
      ]
     },
     "execution_count": 8,
     "metadata": {},
     "output_type": "execute_result"
    },
    {
     "data": {
      "text/plain": [
       "'03c45079-04d9-45b4-aec7-0a7148114f44'"
      ]
     },
     "execution_count": 8,
     "metadata": {},
     "output_type": "execute_result"
    }
   ],
   "source": [
    "s3 = MyStore(my_id)\n",
    "s3.data\n",
    "s3.id"
   ]
  },
  {
   "cell_type": "code",
   "execution_count": 9,
   "metadata": {},
   "outputs": [],
   "source": [
    "Client = datalink.link_factory(name=\"Client\", db_path='/tmp/clients.db', table_name='clients',\n",
    "                              data_fields={'name': None, 'age': None, 'favourite_store': 'Hot Rods'})"
   ]
  },
  {
   "cell_type": "code",
   "execution_count": 10,
   "metadata": {},
   "outputs": [
    {
     "name": "stdout",
     "output_type": "stream",
     "text": [
      "DEBUG | Creating new database entry with id 216f7efb-e956-4e43-a36a-bd8c2da15a8f.\n"
     ]
    }
   ],
   "source": [
    "gavin = Client(name='Gavin Kirby', age=31, favourite_store='The big sex store')"
   ]
  },
  {
   "cell_type": "code",
   "execution_count": 11,
   "metadata": {},
   "outputs": [
    {
     "name": "stdout",
     "output_type": "stream",
     "text": [
      "DEBUG | Creating new database entry with id f2daa97a-a507-4959-97f1-115c7c8a6d46.\n"
     ]
    }
   ],
   "source": [
    "will = Client(name='Will', age=31, favourite_store='MyStore')"
   ]
  },
  {
   "cell_type": "code",
   "execution_count": 12,
   "metadata": {},
   "outputs": [],
   "source": [
    "del(gavin, will)"
   ]
  },
  {
   "cell_type": "code",
   "execution_count": 13,
   "metadata": {},
   "outputs": [
    {
     "name": "stdout",
     "output_type": "stream",
     "text": [
      "DEBUG | Loading data corresponding to ID: 8d513e7b-6efb-42d1-a868-47d6844703c1\n",
      "DEBUG | Updating existing database entry for id 8d513e7b-6efb-42d1-a868-47d6844703c1.\n"
     ]
    },
    {
     "data": {
      "text/plain": [
       "<datalink.link_factory.<locals>.NewClass at 0x7f73ec6f6dd0>"
      ]
     },
     "execution_count": 13,
     "metadata": {},
     "output_type": "execute_result"
    }
   ],
   "source": [
    "Client('8d513e7b-6efb-42d1-a868-47d6844703c1', favourite_store='the bigger sex store')"
   ]
  },
  {
   "cell_type": "code",
   "execution_count": 14,
   "metadata": {},
   "outputs": [
    {
     "name": "stdout",
     "output_type": "stream",
     "text": [
      "DEBUG | Loading data corresponding to ID: thisisliam\n",
      "DEBUG | Updating existing database entry for id thisisliam.\n"
     ]
    }
   ],
   "source": [
    "liam = Client('thisisliam', name='Liam', age=29, favourite_store=\"McChomskies\")"
   ]
  },
  {
   "cell_type": "code",
   "execution_count": 15,
   "metadata": {},
   "outputs": [],
   "source": [
    "Exchange = datalink.link_factory(name=\"Exchange\", db_path='/tmp/exchanges.db', table_name='exchanges',\n",
    "                                 data_fields={'name': None, 'est': None, 'assets': ['BTC']})"
   ]
  },
  {
   "cell_type": "code",
   "execution_count": 16,
   "metadata": {},
   "outputs": [
    {
     "name": "stdout",
     "output_type": "stream",
     "text": [
      "DEBUG | Loading data corresponding to ID: exmo\n",
      "DEBUG | Updating existing database entry for id exmo.\n"
     ]
    }
   ],
   "source": [
    "exmo = Exchange('exmo', name='exmo', est=2015, assets=['BTC', 'XRP', 'ETH'])"
   ]
  },
  {
   "cell_type": "code",
   "execution_count": 17,
   "metadata": {},
   "outputs": [
    {
     "name": "stdout",
     "output_type": "stream",
     "text": [
      "DEBUG | Updating existing database entry for id exmo.\n"
     ]
    }
   ],
   "source": [
    "exmo.assets = ['BTC', 'XRP', 'ETH', 'XRP']"
   ]
  },
  {
   "cell_type": "code",
   "execution_count": 18,
   "metadata": {},
   "outputs": [],
   "source": [
    "exmo.assets.append('XRM')"
   ]
  },
  {
   "cell_type": "code",
   "execution_count": 19,
   "metadata": {
    "scrolled": true
   },
   "outputs": [
    {
     "data": {
      "text/plain": [
       "['BTC', 'XRP', 'ETH', 'XRP', 'XRM']"
      ]
     },
     "execution_count": 19,
     "metadata": {},
     "output_type": "execute_result"
    }
   ],
   "source": [
    "exmo.assets"
   ]
  }
 ],
 "metadata": {
  "kernelspec": {
   "display_name": "datalink",
   "language": "python",
   "name": "datalink"
  },
  "language_info": {
   "codemirror_mode": {
    "name": "ipython",
    "version": 3
   },
   "file_extension": ".py",
   "mimetype": "text/x-python",
   "name": "python",
   "nbconvert_exporter": "python",
   "pygments_lexer": "ipython3",
   "version": "3.7.5"
  }
 },
 "nbformat": 4,
 "nbformat_minor": 2
}
