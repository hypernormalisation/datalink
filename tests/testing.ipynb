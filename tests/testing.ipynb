{
 "cells": [
  {
   "cell_type": "code",
   "execution_count": 1,
   "metadata": {},
   "outputs": [
    {
     "name": "stdout",
     "output_type": "stream",
     "text": [
      "/home/sogilvy/miniconda3/envs/datalink/bin/python\n"
     ]
    }
   ],
   "source": [
    "import sys\n",
    "import warnings\n",
    "import logging\n",
    "warnings.filterwarnings('ignore')\n",
    "print(sys.executable)\n",
    "logging.basicConfig(format='%(levelname)s | %(message)s',\n",
    "                    level=logging.DEBUG,\n",
    "                    stream=sys.stdout)"
   ]
  },
  {
   "cell_type": "code",
   "execution_count": 2,
   "metadata": {},
   "outputs": [],
   "source": [
    "import sqlalchemy\n",
    "# help(sqlalchemy.engine.url.URL)"
   ]
  },
  {
   "cell_type": "code",
   "execution_count": 3,
   "metadata": {},
   "outputs": [
    {
     "data": {
      "text/plain": [
       "postgres:////tmp/test.db"
      ]
     },
     "execution_count": 3,
     "metadata": {},
     "output_type": "execute_result"
    }
   ],
   "source": [
    "sqlalchemy.engine.url.URL('postgres', database='/tmp/test.db')"
   ]
  },
  {
   "cell_type": "code",
   "execution_count": 4,
   "metadata": {},
   "outputs": [],
   "source": [
    "# sqlalchemy.create_engine('sqlite:////tmp/test.db')"
   ]
  },
  {
   "cell_type": "code",
   "execution_count": 5,
   "metadata": {},
   "outputs": [
    {
     "name": "stdout",
     "output_type": "stream",
     "text": [
      "DEBUG | loaded lazy attr 'SafeConfigParser': <class 'configparser.ConfigParser'>\n",
      "DEBUG | loaded lazy attr 'NativeStringIO': <class '_io.StringIO'>\n",
      "DEBUG | loaded lazy attr 'BytesIO': <class '_io.BytesIO'>\n"
     ]
    }
   ],
   "source": [
    "import datalink"
   ]
  },
  {
   "cell_type": "code",
   "execution_count": 6,
   "metadata": {},
   "outputs": [],
   "source": [
    "# A = datalink.factory('A', 'mytable', {'a': 0, 'b': 'a string', 'c': []},\n",
    "#                      database='/tmp/ntest.db')\n",
    "# 'sqlite:////tmp/ntest.db'\n",
    "# A = datalink.factory('A', 'mytable', {'a': 0, 'b': 'a string', 'c': []},\n",
    "#                      url='sqlite:////tmp/ntest.db')\n",
    "A = datalink.factory('A', 'mytable', {'a': 0, 'b': 'a string', 'c': []},\n",
    "                     dialect='postgres', database='my_test_db', username='sogilvy', host='localhost')"
   ]
  },
  {
   "cell_type": "code",
   "execution_count": 16,
   "metadata": {},
   "outputs": [
    {
     "data": {
      "text/plain": [
       "'postgres://sogilvy@localhost/my_test_db'"
      ]
     },
     "execution_count": 16,
     "metadata": {},
     "output_type": "execute_result"
    }
   ],
   "source": [
    "A.url"
   ]
  },
  {
   "cell_type": "code",
   "execution_count": 8,
   "metadata": {},
   "outputs": [
    {
     "name": "stdout",
     "output_type": "stream",
     "text": [
      "DEBUG | Creating new database entry with id 99ceb93c-5e78-4c50-952c-62e3c676c686.\n"
     ]
    }
   ],
   "source": [
    "a=A()"
   ]
  },
  {
   "cell_type": "code",
   "execution_count": 9,
   "metadata": {},
   "outputs": [
    {
     "data": {
      "text/plain": [
       "{'a': 0,\n",
       " 'b': 'a string',\n",
       " 'c': [],\n",
       " 'id': '99ceb93c-5e78-4c50-952c-62e3c676c686'}"
      ]
     },
     "execution_count": 9,
     "metadata": {},
     "output_type": "execute_result"
    }
   ],
   "source": [
    "a.data"
   ]
  },
  {
   "cell_type": "code",
   "execution_count": 10,
   "metadata": {},
   "outputs": [
    {
     "name": "stdout",
     "output_type": "stream",
     "text": [
      "DEBUG | Updating existing database entry for id 99ceb93c-5e78-4c50-952c-62e3c676c686.\n"
     ]
    }
   ],
   "source": [
    "a.a = 2"
   ]
  },
  {
   "cell_type": "code",
   "execution_count": 11,
   "metadata": {},
   "outputs": [
    {
     "data": {
      "text/plain": [
       "str"
      ]
     },
     "execution_count": 11,
     "metadata": {},
     "output_type": "execute_result"
    }
   ],
   "source": [
    "type(a.url)"
   ]
  },
  {
   "cell_type": "code",
   "execution_count": 12,
   "metadata": {},
   "outputs": [
    {
     "name": "stdout",
     "output_type": "stream",
     "text": [
      "DEBUG | Updating existing database entry for id 99ceb93c-5e78-4c50-952c-62e3c676c686.\n"
     ]
    }
   ],
   "source": [
    "a.a=4"
   ]
  },
  {
   "cell_type": "code",
   "execution_count": 13,
   "metadata": {},
   "outputs": [
    {
     "data": {
      "text/plain": [
       "'mytable'"
      ]
     },
     "execution_count": 13,
     "metadata": {},
     "output_type": "execute_result"
    }
   ],
   "source": [
    "a.table"
   ]
  },
  {
   "cell_type": "code",
   "execution_count": 14,
   "metadata": {},
   "outputs": [
    {
     "data": {
      "text/plain": [
       "'postgres://sogilvy@localhost/my_test_db'"
      ]
     },
     "execution_count": 14,
     "metadata": {},
     "output_type": "execute_result"
    }
   ],
   "source": [
    "a.url"
   ]
  },
  {
   "cell_type": "code",
   "execution_count": 17,
   "metadata": {},
   "outputs": [
    {
     "name": "stdout",
     "output_type": "stream",
     "text": [
      "Help on class URL in module sqlalchemy.engine.url:\n",
      "\n",
      "class URL(builtins.object)\n",
      " |  URL(drivername, username=None, password=None, host=None, port=None, database=None, query=None)\n",
      " |  \n",
      " |  Represent the components of a URL used to connect to a database.\n",
      " |  \n",
      " |  This object is suitable to be passed directly to a\n",
      " |  :func:`~sqlalchemy.create_engine` call.  The fields of the URL are parsed\n",
      " |  from a string by the :func:`.make_url` function.  the string\n",
      " |  format of the URL is an RFC-1738-style string.\n",
      " |  \n",
      " |  All initialization parameters are available as public attributes.\n",
      " |  \n",
      " |  :param drivername: the name of the database backend.\n",
      " |    This name will correspond to a module in sqlalchemy/databases\n",
      " |    or a third party plug-in.\n",
      " |  \n",
      " |  :param username: The user name.\n",
      " |  \n",
      " |  :param password: database password.\n",
      " |  \n",
      " |  :param host: The name of the host.\n",
      " |  \n",
      " |  :param port: The port number.\n",
      " |  \n",
      " |  :param database: The database name.\n",
      " |  \n",
      " |  :param query: A dictionary of options to be passed to the\n",
      " |    dialect and/or the DBAPI upon connect.\n",
      " |  \n",
      " |  Methods defined here:\n",
      " |  \n",
      " |  __eq__(self, other)\n",
      " |      Return self==value.\n",
      " |  \n",
      " |  __hash__(self)\n",
      " |      Return hash(self).\n",
      " |  \n",
      " |  __init__(self, drivername, username=None, password=None, host=None, port=None, database=None, query=None)\n",
      " |      Initialize self.  See help(type(self)) for accurate signature.\n",
      " |  \n",
      " |  __ne__(self, other)\n",
      " |      Return self!=value.\n",
      " |  \n",
      " |  __repr__(self)\n",
      " |      Return repr(self).\n",
      " |  \n",
      " |  __str__(self)\n",
      " |      Return str(self).\n",
      " |  \n",
      " |  __to_string__(self, hide_password=True)\n",
      " |  \n",
      " |  get_backend_name(self)\n",
      " |  \n",
      " |  get_dialect(self)\n",
      " |      Return the SQLAlchemy database dialect class corresponding\n",
      " |      to this URL's driver name.\n",
      " |  \n",
      " |  get_driver_name(self)\n",
      " |  \n",
      " |  translate_connect_args(self, names=[], **kw)\n",
      " |      Translate url attributes into a dictionary of connection arguments.\n",
      " |      \n",
      " |      Returns attributes of this url (`host`, `database`, `username`,\n",
      " |      `password`, `port`) as a plain dictionary.  The attribute names are\n",
      " |      used as the keys by default.  Unset or false attributes are omitted\n",
      " |      from the final dictionary.\n",
      " |      \n",
      " |      :param \\**kw: Optional, alternate key names for url attributes.\n",
      " |      \n",
      " |      :param names: Deprecated.  Same purpose as the keyword-based alternate\n",
      " |          names, but correlates the name to the original positionally.\n",
      " |  \n",
      " |  ----------------------------------------------------------------------\n",
      " |  Data descriptors defined here:\n",
      " |  \n",
      " |  __dict__\n",
      " |      dictionary for instance variables (if defined)\n",
      " |  \n",
      " |  __weakref__\n",
      " |      list of weak references to the object (if defined)\n",
      " |  \n",
      " |  password\n",
      " |  \n",
      " |  ----------------------------------------------------------------------\n",
      " |  Data and other attributes defined here:\n",
      " |  \n",
      " |  __slotnames__ = []\n",
      "\n"
     ]
    }
   ],
   "source": [
    "help(sqlalchemy.engine.url.URL)"
   ]
  }
 ],
 "metadata": {
  "kernelspec": {
   "display_name": "datalink",
   "language": "python",
   "name": "datalink"
  },
  "language_info": {
   "codemirror_mode": {
    "name": "ipython",
    "version": 3
   },
   "file_extension": ".py",
   "mimetype": "text/x-python",
   "name": "python",
   "nbconvert_exporter": "python",
   "pygments_lexer": "ipython3",
   "version": "3.7.5"
  }
 },
 "nbformat": 4,
 "nbformat_minor": 2
}
