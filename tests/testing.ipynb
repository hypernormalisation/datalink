{
 "cells": [
  {
   "cell_type": "code",
   "execution_count": 1,
   "metadata": {},
   "outputs": [
    {
     "name": "stdout",
     "output_type": "stream",
     "text": [
      "/usr/bin/python3\n"
     ]
    }
   ],
   "source": [
    "import sys\n",
    "print(sys.executable)"
   ]
  },
  {
   "cell_type": "code",
   "execution_count": 1,
   "metadata": {},
   "outputs": [],
   "source": [
    "import logging\n",
    "import warnings\n",
    "import datalink\n",
    "import sys\n",
    "\n",
    "warnings.filterwarnings('ignore')\n",
    "logging.basicConfig(format='%(levelname)s | %(message)s',\n",
    "                    level=logging.DEBUG,\n",
    "                    stream=sys.stdout)\n",
    "log = logging.getLogger(__name__)"
   ]
  },
  {
   "cell_type": "code",
   "execution_count": 2,
   "metadata": {},
   "outputs": [
    {
     "name": "stdout",
     "output_type": "stream",
     "text": [
      "client_id\n"
     ]
    }
   ],
   "source": [
    "MyStore = datalink.link_factory(name='MyStore', db_path='/tmp/test2.db', table_name='data',\n",
    "                                lookup='client_id',\n",
    "                                data_fields={'name': None, 'age': None, 'postcode': None})"
   ]
  },
  {
   "cell_type": "code",
   "execution_count": 3,
   "metadata": {},
   "outputs": [
    {
     "name": "stdout",
     "output_type": "stream",
     "text": [
      "{'client_id': '2001'}\n",
      "lookup dict: {'client_id': '2001'}\n",
      "DEBUG | Creating database: /tmp/test2.db\n",
      "INFO | - db created at path: /tmp/test2.db\n",
      "{'table_name': 'data', 'db_path': '/tmp/test2.db', 'lookup': {'client_id': '2001'}}\n",
      "table_name\n",
      "db_path\n",
      "lookup\n",
      "DEBUG | Creating new database entry with uuid 6a327385-ae7e-5f0c-9333-e6a4c0e5fa45.\n",
      "{'name': 'Jane Doe', 'age': 40, 'postcode': 'L20 2FF', 'datalink_uuid': '6a327385-ae7e-5f0c-9333-e6a4c0e5fa45'}\n"
     ]
    }
   ],
   "source": [
    "s = MyStore(client_id='2001')\n",
    "s.update(name='Jane Doe', age=40, postcode='L20 2FF')"
   ]
  },
  {
   "cell_type": "code",
   "execution_count": 4,
   "metadata": {},
   "outputs": [
    {
     "data": {
      "text/plain": [
       "False"
      ]
     },
     "execution_count": 4,
     "metadata": {},
     "output_type": "execute_result"
    }
   ],
   "source": [
    "s.is_loaded_from_db"
   ]
  }
 ],
 "metadata": {
  "kernelspec": {
   "display_name": "Python 3",
   "language": "python",
   "name": "python3"
  },
  "language_info": {
   "codemirror_mode": {
    "name": "ipython",
    "version": 3
   },
   "file_extension": ".py",
   "mimetype": "text/x-python",
   "name": "python",
   "nbconvert_exporter": "python",
   "pygments_lexer": "ipython3",
   "version": "3.8.0"
  }
 },
 "nbformat": 4,
 "nbformat_minor": 2
}
