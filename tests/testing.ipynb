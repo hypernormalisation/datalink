{
 "cells": [
  {
   "cell_type": "code",
   "execution_count": 1,
   "metadata": {},
   "outputs": [],
   "source": [
    "import sys\n",
    "import warnings\n",
    "import logging\n",
    "warnings.filterwarnings('ignore')\n",
    "print(sys.executable)\n",
    "logging.basicConfig(format='%(levelname)s | %(message)s',\n",
    "                    level=logging.DEBUG,\n",
    "                    stream=sys.stdout)"
   ]
  },
  {
   "cell_type": "code",
   "execution_count": 2,
   "metadata": {},
   "outputs": [],
   "source": [
    "import sqlalchemy\n",
    "# help(sqlalchemy.engine.url.URL)"
   ]
  },
  {
   "cell_type": "code",
   "execution_count": 3,
   "metadata": {},
   "outputs": [
    {
     "data": {
      "text/plain": [
       "postgres:////tmp/test.db"
      ]
     },
     "execution_count": 3,
     "metadata": {},
     "output_type": "execute_result"
    }
   ],
   "source": [
    "sqlalchemy.engine.url.URL('postgres', database='/tmp/test.db')"
   ]
  },
  {
   "cell_type": "code",
   "execution_count": 4,
   "metadata": {},
   "outputs": [],
   "source": [
    "# sqlalchemy.create_engine('sqlite:////tmp/test.db')"
   ]
  },
  {
   "cell_type": "code",
   "execution_count": 5,
   "metadata": {},
   "outputs": [
    {
     "name": "stdout",
     "output_type": "stream",
     "text": [
      "DEBUG | loaded lazy attr 'SafeConfigParser': <class 'configparser.ConfigParser'>\n",
      "DEBUG | loaded lazy attr 'NativeStringIO': <class '_io.StringIO'>\n",
      "DEBUG | loaded lazy attr 'BytesIO': <class '_io.BytesIO'>\n"
     ]
    }
   ],
   "source": [
    "import datalink"
   ]
  },
  {
   "cell_type": "code",
   "execution_count": 6,
   "metadata": {},
   "outputs": [],
   "source": [
    "A = datalink.factory('A', 'mytable', {'a': 0, 'b': 'a string', 'c': []},\n",
    "                     database='/tmp/ntest.db')\n",
    "# 'sqlite:////tmp/ntest.db'\n",
    "# A = datalink.factory('A', 'mytable', {'a': 0, 'b': 'a string', 'c': []},\n",
    "#                      url='sqlite:////tmp/ntest.db')"
   ]
  },
  {
   "cell_type": "code",
   "execution_count": 7,
   "metadata": {},
   "outputs": [
    {
     "data": {
      "text/plain": [
       "'sqlite:////tmp/ntest.db'"
      ]
     },
     "execution_count": 7,
     "metadata": {},
     "output_type": "execute_result"
    }
   ],
   "source": [
    "A.url"
   ]
  },
  {
   "cell_type": "code",
   "execution_count": 8,
   "metadata": {},
   "outputs": [
    {
     "name": "stdout",
     "output_type": "stream",
     "text": [
      "DEBUG | Creating new database entry with id 12e638e1-a97e-45a3-a890-821325cab105.\n"
     ]
    }
   ],
   "source": [
    "b = A(a=5, b='new string')"
   ]
  },
  {
   "cell_type": "code",
   "execution_count": 9,
   "metadata": {},
   "outputs": [
    {
     "name": "stdout",
     "output_type": "stream",
     "text": [
      "DEBUG | Creating new database entry with id be448bb4-177e-4460-9898-b27d9bf6cc82.\n"
     ]
    }
   ],
   "source": [
    "a=A()"
   ]
  },
  {
   "cell_type": "code",
   "execution_count": 10,
   "metadata": {},
   "outputs": [
    {
     "data": {
      "text/plain": [
       "{'a': 0,\n",
       " 'b': 'a string',\n",
       " 'c': [],\n",
       " 'id': 'be448bb4-177e-4460-9898-b27d9bf6cc82'}"
      ]
     },
     "execution_count": 10,
     "metadata": {},
     "output_type": "execute_result"
    }
   ],
   "source": [
    "a.data"
   ]
  },
  {
   "cell_type": "code",
   "execution_count": 11,
   "metadata": {},
   "outputs": [
    {
     "name": "stdout",
     "output_type": "stream",
     "text": [
      "DEBUG | Updating existing database entry for id be448bb4-177e-4460-9898-b27d9bf6cc82.\n"
     ]
    }
   ],
   "source": [
    "a.a = 2"
   ]
  },
  {
   "cell_type": "code",
   "execution_count": 12,
   "metadata": {},
   "outputs": [
    {
     "data": {
      "text/plain": [
       "str"
      ]
     },
     "execution_count": 12,
     "metadata": {},
     "output_type": "execute_result"
    }
   ],
   "source": [
    "type(a.url)"
   ]
  },
  {
   "cell_type": "code",
   "execution_count": 13,
   "metadata": {},
   "outputs": [
    {
     "name": "stdout",
     "output_type": "stream",
     "text": [
      "DEBUG | Updating existing database entry for id be448bb4-177e-4460-9898-b27d9bf6cc82.\n"
     ]
    }
   ],
   "source": [
    "a.a=4"
   ]
  },
  {
   "cell_type": "code",
   "execution_count": 14,
   "metadata": {},
   "outputs": [
    {
     "data": {
      "text/plain": [
       "'mytable'"
      ]
     },
     "execution_count": 14,
     "metadata": {},
     "output_type": "execute_result"
    }
   ],
   "source": [
    "a.table"
   ]
  },
  {
   "cell_type": "code",
   "execution_count": 15,
   "metadata": {},
   "outputs": [
    {
     "data": {
      "text/plain": [
       "'sqlite:////tmp/ntest.db'"
      ]
     },
     "execution_count": 15,
     "metadata": {},
     "output_type": "execute_result"
    }
   ],
   "source": [
    "a.url"
   ]
  },
  {
   "cell_type": "code",
   "execution_count": 18,
   "metadata": {},
   "outputs": [
    {
     "name": "stdout",
     "output_type": "stream",
     "text": [
      "DEBUG | Loading data corresponding to ID: be448bb4-177e-4460-9898-b27d9bf6cc82\n"
     ]
    }
   ],
   "source": [
    "c = A('be448bb4-177e-4460-9898-b27d9bf6cc82')"
   ]
  },
  {
   "cell_type": "code",
   "execution_count": 20,
   "metadata": {},
   "outputs": [
    {
     "data": {
      "text/plain": [
       "{'a': 4,\n",
       " 'b': 'a string',\n",
       " 'c': [],\n",
       " 'id': 'be448bb4-177e-4460-9898-b27d9bf6cc82'}"
      ]
     },
     "execution_count": 20,
     "metadata": {},
     "output_type": "execute_result"
    }
   ],
   "source": [
    "c.data"
   ]
  },
  {
   "cell_type": "code",
   "execution_count": null,
   "metadata": {},
   "outputs": [],
   "source": []
  }
 ],
 "metadata": {
  "kernelspec": {
   "display_name": "datalink",
   "language": "python",
   "name": "datalink"
  },
  "language_info": {
   "codemirror_mode": {
    "name": "ipython",
    "version": 3
   },
   "file_extension": ".py",
   "mimetype": "text/x-python",
   "name": "python",
   "nbconvert_exporter": "python",
   "pygments_lexer": "ipython3",
   "version": "3.7.5"
  }
 },
 "nbformat": 4,
 "nbformat_minor": 2
}
