{
 "cells": [
  {
   "cell_type": "code",
   "execution_count": 1,
   "metadata": {},
   "outputs": [
    {
     "name": "stdout",
     "output_type": "stream",
     "text": [
      "/home/sogilvy/miniconda3/envs/datalink/bin/python\n"
     ]
    }
   ],
   "source": [
    "import sys\n",
    "import warnings\n",
    "import logging\n",
    "warnings.filterwarnings('ignore')\n",
    "print(sys.executable)\n",
    "logging.basicConfig(format='%(levelname)s | %(message)s',\n",
    "                    level=logging.DEBUG,\n",
    "                    stream=sys.stdout)"
   ]
  },
  {
   "cell_type": "code",
   "execution_count": 2,
   "metadata": {},
   "outputs": [
    {
     "name": "stdout",
     "output_type": "stream",
     "text": [
      "DEBUG | loaded lazy attr 'SafeConfigParser': <class 'configparser.ConfigParser'>\n",
      "DEBUG | loaded lazy attr 'NativeStringIO': <class '_io.StringIO'>\n",
      "DEBUG | loaded lazy attr 'BytesIO': <class '_io.BytesIO'>\n"
     ]
    }
   ],
   "source": [
    "import datalink"
   ]
  },
  {
   "cell_type": "code",
   "execution_count": 3,
   "metadata": {},
   "outputs": [],
   "source": [
    "A = datalink.factory('A', 'mytable', {'a': 0, 'b': 'a string', 'c': []},\n",
    "                     database='/tmp/ntest.db')"
   ]
  },
  {
   "cell_type": "code",
   "execution_count": 4,
   "metadata": {},
   "outputs": [
    {
     "data": {
      "text/plain": [
       "'sqlite:////tmp/ntest.db'"
      ]
     },
     "execution_count": 4,
     "metadata": {},
     "output_type": "execute_result"
    }
   ],
   "source": [
    "A.url"
   ]
  },
  {
   "cell_type": "code",
   "execution_count": 5,
   "metadata": {},
   "outputs": [
    {
     "name": "stdout",
     "output_type": "stream",
     "text": [
      "DEBUG | Creating new database entry with id 0cd54642-e2e8-446e-aa40-a13c27077dad.\n"
     ]
    }
   ],
   "source": [
    "b = A(a=5, b='new string')"
   ]
  },
  {
   "cell_type": "code",
   "execution_count": 6,
   "metadata": {},
   "outputs": [
    {
     "name": "stdout",
     "output_type": "stream",
     "text": [
      "DEBUG | Creating new database entry with id e1e81dc8-1708-465e-bfd6-634cd9361c39.\n"
     ]
    }
   ],
   "source": [
    "a=A()"
   ]
  },
  {
   "cell_type": "code",
   "execution_count": 7,
   "metadata": {},
   "outputs": [
    {
     "data": {
      "text/plain": [
       "{'a': 0,\n",
       " 'b': 'a string',\n",
       " 'c': [],\n",
       " 'id': 'e1e81dc8-1708-465e-bfd6-634cd9361c39'}"
      ]
     },
     "execution_count": 7,
     "metadata": {},
     "output_type": "execute_result"
    }
   ],
   "source": [
    "a.data"
   ]
  },
  {
   "cell_type": "code",
   "execution_count": 8,
   "metadata": {},
   "outputs": [
    {
     "name": "stdout",
     "output_type": "stream",
     "text": [
      "DEBUG | Updating existing database entry for id e1e81dc8-1708-465e-bfd6-634cd9361c39.\n"
     ]
    }
   ],
   "source": [
    "a.a = 2"
   ]
  },
  {
   "cell_type": "code",
   "execution_count": 9,
   "metadata": {},
   "outputs": [
    {
     "name": "stdout",
     "output_type": "stream",
     "text": [
      "DEBUG | Updating existing database entry for id e1e81dc8-1708-465e-bfd6-634cd9361c39.\n"
     ]
    }
   ],
   "source": [
    "a.a=4"
   ]
  },
  {
   "cell_type": "code",
   "execution_count": 10,
   "metadata": {},
   "outputs": [
    {
     "name": "stdout",
     "output_type": "stream",
     "text": [
      "DEBUG | Loaded data corresponding to ID: be448bb4-177e-4460-9898-b27d9bf6cc82\n"
     ]
    }
   ],
   "source": [
    "c = A('be448bb4-177e-4460-9898-b27d9bf6cc82')"
   ]
  },
  {
   "cell_type": "code",
   "execution_count": 11,
   "metadata": {},
   "outputs": [
    {
     "data": {
      "text/plain": [
       "{'a': 0,\n",
       " 'b': 'a string',\n",
       " 'c': [],\n",
       " 'id': 'be448bb4-177e-4460-9898-b27d9bf6cc82'}"
      ]
     },
     "execution_count": 11,
     "metadata": {},
     "output_type": "execute_result"
    }
   ],
   "source": [
    "c.data"
   ]
  },
  {
   "cell_type": "code",
   "execution_count": null,
   "metadata": {},
   "outputs": [],
   "source": []
  }
 ],
 "metadata": {
  "kernelspec": {
   "display_name": "datalink",
   "language": "python",
   "name": "datalink"
  },
  "language_info": {
   "codemirror_mode": {
    "name": "ipython",
    "version": 3
   },
   "file_extension": ".py",
   "mimetype": "text/x-python",
   "name": "python",
   "nbconvert_exporter": "python",
   "pygments_lexer": "ipython3",
   "version": "3.7.5"
  }
 },
 "nbformat": 4,
 "nbformat_minor": 2
}
