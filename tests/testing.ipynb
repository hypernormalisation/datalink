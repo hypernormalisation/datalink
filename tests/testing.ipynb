{
 "cells": [
  {
   "cell_type": "code",
   "execution_count": 1,
   "metadata": {},
   "outputs": [],
   "source": [
    "import sys\n",
    "print(sys.executable)"
   ]
  },
  {
   "cell_type": "code",
   "execution_count": 2,
   "metadata": {},
   "outputs": [],
   "source": [
    "import sqlalchemy"
   ]
  },
  {
   "cell_type": "code",
   "execution_count": 3,
   "metadata": {},
   "outputs": [
    {
     "name": "stdout",
     "output_type": "stream",
     "text": [
      "Help on class URL in module sqlalchemy.engine.url:\n",
      "\n",
      "class URL(builtins.object)\n",
      " |  URL(drivername, username=None, password=None, host=None, port=None, database=None, query=None)\n",
      " |  \n",
      " |  Represent the components of a URL used to connect to a database.\n",
      " |  \n",
      " |  This object is suitable to be passed directly to a\n",
      " |  :func:`~sqlalchemy.create_engine` call.  The fields of the URL are parsed\n",
      " |  from a string by the :func:`.make_url` function.  the string\n",
      " |  format of the URL is an RFC-1738-style string.\n",
      " |  \n",
      " |  All initialization parameters are available as public attributes.\n",
      " |  \n",
      " |  :param drivername: the name of the database backend.\n",
      " |    This name will correspond to a module in sqlalchemy/databases\n",
      " |    or a third party plug-in.\n",
      " |  \n",
      " |  :param username: The user name.\n",
      " |  \n",
      " |  :param password: database password.\n",
      " |  \n",
      " |  :param host: The name of the host.\n",
      " |  \n",
      " |  :param port: The port number.\n",
      " |  \n",
      " |  :param database: The database name.\n",
      " |  \n",
      " |  :param query: A dictionary of options to be passed to the\n",
      " |    dialect and/or the DBAPI upon connect.\n",
      " |  \n",
      " |  Methods defined here:\n",
      " |  \n",
      " |  __eq__(self, other)\n",
      " |      Return self==value.\n",
      " |  \n",
      " |  __hash__(self)\n",
      " |      Return hash(self).\n",
      " |  \n",
      " |  __init__(self, drivername, username=None, password=None, host=None, port=None, database=None, query=None)\n",
      " |      Initialize self.  See help(type(self)) for accurate signature.\n",
      " |  \n",
      " |  __ne__(self, other)\n",
      " |      Return self!=value.\n",
      " |  \n",
      " |  __repr__(self)\n",
      " |      Return repr(self).\n",
      " |  \n",
      " |  __str__(self)\n",
      " |      Return str(self).\n",
      " |  \n",
      " |  __to_string__(self, hide_password=True)\n",
      " |  \n",
      " |  get_backend_name(self)\n",
      " |  \n",
      " |  get_dialect(self)\n",
      " |      Return the SQLAlchemy database dialect class corresponding\n",
      " |      to this URL's driver name.\n",
      " |  \n",
      " |  get_driver_name(self)\n",
      " |  \n",
      " |  translate_connect_args(self, names=[], **kw)\n",
      " |      Translate url attributes into a dictionary of connection arguments.\n",
      " |      \n",
      " |      Returns attributes of this url (`host`, `database`, `username`,\n",
      " |      `password`, `port`) as a plain dictionary.  The attribute names are\n",
      " |      used as the keys by default.  Unset or false attributes are omitted\n",
      " |      from the final dictionary.\n",
      " |      \n",
      " |      :param \\**kw: Optional, alternate key names for url attributes.\n",
      " |      \n",
      " |      :param names: Deprecated.  Same purpose as the keyword-based alternate\n",
      " |          names, but correlates the name to the original positionally.\n",
      " |  \n",
      " |  ----------------------------------------------------------------------\n",
      " |  Data descriptors defined here:\n",
      " |  \n",
      " |  __dict__\n",
      " |      dictionary for instance variables (if defined)\n",
      " |  \n",
      " |  __weakref__\n",
      " |      list of weak references to the object (if defined)\n",
      " |  \n",
      " |  password\n",
      "\n"
     ]
    }
   ],
   "source": [
    "help(sqlalchemy.engine.url.URL)"
   ]
  },
  {
   "cell_type": "code",
   "execution_count": 4,
   "metadata": {},
   "outputs": [
    {
     "data": {
      "text/plain": [
       "sqlalchemy.dialects.mysql.pymysql.MySQLDialect_pymysql"
      ]
     },
     "execution_count": 4,
     "metadata": {},
     "output_type": "execute_result"
    }
   ],
   "source": [
    "sqlalchemy.engine.url.URL('mysql+pymysql', username='bob', host='daworld', database='/tmp/test.db', password='thisisatest').get_dialect()"
   ]
  },
  {
   "cell_type": "code",
   "execution_count": 5,
   "metadata": {},
   "outputs": [],
   "source": [
    "from sqlalchemy import create_engine"
   ]
  },
  {
   "cell_type": "code",
   "execution_count": 7,
   "metadata": {},
   "outputs": [
    {
     "data": {
      "text/plain": [
       "Engine(postgresql://sogily@localhost/my_test)"
      ]
     },
     "execution_count": 7,
     "metadata": {},
     "output_type": "execute_result"
    }
   ],
   "source": [
    "create_engine('postgresql://sogilvy@localhost/my_test')"
   ]
  },
  {
   "cell_type": "code",
   "execution_count": 8,
   "metadata": {},
   "outputs": [],
   "source": [
    "import dataset"
   ]
  },
  {
   "cell_type": "code",
   "execution_count": 10,
   "metadata": {},
   "outputs": [
    {
     "data": {
      "text/plain": [
       "<Table(test)>"
      ]
     },
     "execution_count": 10,
     "metadata": {},
     "output_type": "execute_result"
    }
   ],
   "source": [
    "d = dataset.Database('postgresql://sogilvy@localhost/my_test')\n",
    "d.create_table('test')"
   ]
  },
  {
   "cell_type": "code",
   "execution_count": 11,
   "metadata": {},
   "outputs": [],
   "source": [
    "d.commit()"
   ]
  },
  {
   "cell_type": "code",
   "execution_count": 12,
   "metadata": {},
   "outputs": [],
   "source": [
    "t = d['new_table']"
   ]
  },
  {
   "cell_type": "code",
   "execution_count": 17,
   "metadata": {},
   "outputs": [
    {
     "data": {
      "text/plain": [
       "1"
      ]
     },
     "execution_count": 17,
     "metadata": {},
     "output_type": "execute_result"
    }
   ],
   "source": [
    "t.insert({'a': 1, 'b': 'a string'})"
   ]
  },
  {
   "cell_type": "code",
   "execution_count": null,
   "metadata": {},
   "outputs": [],
   "source": []
  }
 ],
 "metadata": {
  "kernelspec": {
   "display_name": "datalink",
   "language": "python",
   "name": "datalink"
  },
  "language_info": {
   "codemirror_mode": {
    "name": "ipython",
    "version": 3
   },
   "file_extension": ".py",
   "mimetype": "text/x-python",
   "name": "python",
   "nbconvert_exporter": "python",
   "pygments_lexer": "ipython3",
   "version": "3.7.5"
  }
 },
 "nbformat": 4,
 "nbformat_minor": 2
}
