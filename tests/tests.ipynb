{
 "cells": [
  {
   "cell_type": "code",
   "execution_count": 1,
   "metadata": {},
   "outputs": [],
   "source": [
    "import logging\n",
    "import sys\n",
    "import copy\n",
    "import collections.abc\n",
    "import json\n",
    "\n",
    "logging.basicConfig(format='%(levelname)s | %(message)s',\n",
    "                    level=logging.DEBUG,\n",
    "                    stream=sys.stdout)\n",
    "log = logging.getLogger(__name__)"
   ]
  },
  {
   "cell_type": "code",
   "execution_count": 2,
   "metadata": {},
   "outputs": [],
   "source": [
    "import datalink"
   ]
  },
  {
   "cell_type": "code",
   "execution_count": 3,
   "metadata": {},
   "outputs": [
    {
     "data": {
      "text/html": [
       "<div>\n",
       "<style scoped>\n",
       "    .dataframe tbody tr th:only-of-type {\n",
       "        vertical-align: middle;\n",
       "    }\n",
       "\n",
       "    .dataframe tbody tr th {\n",
       "        vertical-align: top;\n",
       "    }\n",
       "\n",
       "    .dataframe thead th {\n",
       "        text-align: right;\n",
       "    }\n",
       "</style>\n",
       "<table border=\"1\" class=\"dataframe\">\n",
       "  <thead>\n",
       "    <tr style=\"text-align: right;\">\n",
       "      <th></th>\n",
       "      <th>0</th>\n",
       "      <th>1</th>\n",
       "      <th>2</th>\n",
       "      <th>3</th>\n",
       "    </tr>\n",
       "  </thead>\n",
       "  <tbody>\n",
       "    <tr>\n",
       "      <th>0</th>\n",
       "      <td>42</td>\n",
       "      <td>foo</td>\n",
       "      <td>42</td>\n",
       "      <td>42</td>\n",
       "    </tr>\n",
       "    <tr>\n",
       "      <th>1</th>\n",
       "      <td>foo</td>\n",
       "      <td>foo</td>\n",
       "      <td>42</td>\n",
       "      <td>bar</td>\n",
       "    </tr>\n",
       "    <tr>\n",
       "      <th>2</th>\n",
       "      <td>42</td>\n",
       "      <td>42</td>\n",
       "      <td>42</td>\n",
       "      <td>42</td>\n",
       "    </tr>\n",
       "  </tbody>\n",
       "</table>\n",
       "</div>"
      ],
      "text/plain": [
       "     0    1   2    3\n",
       "0   42  foo  42   42\n",
       "1  foo  foo  42  bar\n",
       "2   42   42  42   42"
      ]
     },
     "execution_count": 3,
     "metadata": {},
     "output_type": "execute_result"
    },
    {
     "data": {
      "text/plain": [
       "pandas.core.series.Series"
      ]
     },
     "execution_count": 3,
     "metadata": {},
     "output_type": "execute_result"
    },
    {
     "data": {
      "text/plain": [
       "0     5559921529589760079\n",
       "1    16825627446701693880\n",
       "2     7171023939017372657\n",
       "dtype: uint64"
      ]
     },
     "execution_count": 3,
     "metadata": {},
     "output_type": "execute_result"
    },
    {
     "data": {
      "text/html": [
       "<div>\n",
       "<style scoped>\n",
       "    .dataframe tbody tr th:only-of-type {\n",
       "        vertical-align: middle;\n",
       "    }\n",
       "\n",
       "    .dataframe tbody tr th {\n",
       "        vertical-align: top;\n",
       "    }\n",
       "\n",
       "    .dataframe thead th {\n",
       "        text-align: right;\n",
       "    }\n",
       "</style>\n",
       "<table border=\"1\" class=\"dataframe\">\n",
       "  <thead>\n",
       "    <tr style=\"text-align: right;\">\n",
       "      <th></th>\n",
       "      <th>0</th>\n",
       "      <th>1</th>\n",
       "      <th>2</th>\n",
       "      <th>3</th>\n",
       "    </tr>\n",
       "  </thead>\n",
       "  <tbody>\n",
       "    <tr>\n",
       "      <th>0</th>\n",
       "      <td>foo</td>\n",
       "      <td>42</td>\n",
       "      <td>bar</td>\n",
       "      <td>foo</td>\n",
       "    </tr>\n",
       "    <tr>\n",
       "      <th>1</th>\n",
       "      <td>bar</td>\n",
       "      <td>bar</td>\n",
       "      <td>bar</td>\n",
       "      <td>bar</td>\n",
       "    </tr>\n",
       "    <tr>\n",
       "      <th>2</th>\n",
       "      <td>foo</td>\n",
       "      <td>foo</td>\n",
       "      <td>bar</td>\n",
       "      <td>bar</td>\n",
       "    </tr>\n",
       "  </tbody>\n",
       "</table>\n",
       "</div>"
      ],
      "text/plain": [
       "     0    1    2    3\n",
       "0  foo   42  bar  foo\n",
       "1  bar  bar  bar  bar\n",
       "2  foo  foo  bar  bar"
      ]
     },
     "execution_count": 3,
     "metadata": {},
     "output_type": "execute_result"
    },
    {
     "data": {
      "text/plain": [
       "pandas.core.series.Series"
      ]
     },
     "execution_count": 3,
     "metadata": {},
     "output_type": "execute_result"
    },
    {
     "data": {
      "text/plain": [
       "0    13395664528142679341\n",
       "1     4844743719075605538\n",
       "2    13663166965737423489\n",
       "dtype: uint64"
      ]
     },
     "execution_count": 3,
     "metadata": {},
     "output_type": "execute_result"
    },
    {
     "data": {
      "text/plain": [
       "False"
      ]
     },
     "execution_count": 3,
     "metadata": {},
     "output_type": "execute_result"
    },
    {
     "data": {
      "text/plain": [
       "True"
      ]
     },
     "execution_count": 3,
     "metadata": {},
     "output_type": "execute_result"
    }
   ],
   "source": [
    "from pandas.util import hash_pandas_object\n",
    "import pandas as pd\n",
    "import numpy as np\n",
    "\n",
    "np.random.seed(42)\n",
    "arr = np.random.choice(['foo', 'bar', 42], size=(3,4))\n",
    "df = pd.DataFrame(arr)\n",
    "\n",
    "df\n",
    "h = hash_pandas_object(df)\n",
    "type(h)\n",
    "h\n",
    "\n",
    "arr = np.random.choice(['foo', 'bar', 42], size=(3,4))\n",
    "df = pd.DataFrame(arr)\n",
    "df\n",
    "h2 = hash_pandas_object(df)\n",
    "type(h2)\n",
    "h2\n",
    "\n",
    "h3 = h2.copy()\n",
    "\n",
    "h.equals(h2)\n",
    "\n",
    "h2.equals(h3)"
   ]
  },
  {
   "cell_type": "code",
   "execution_count": 4,
   "metadata": {},
   "outputs": [
    {
     "name": "stdout",
     "output_type": "stream",
     "text": [
      "INFO | logging from datalink\n"
     ]
    }
   ],
   "source": [
    "datalink.test_output()"
   ]
  },
  {
   "cell_type": "code",
   "execution_count": 5,
   "metadata": {},
   "outputs": [
    {
     "name": "stdout",
     "output_type": "stream",
     "text": [
      "DEBUG | Creating database: /home/sogilvy/test_dl.db\n",
      "INFO | - db created at path: ~/test_dl.db\n"
     ]
    },
    {
     "data": {
      "text/plain": [
       "<datalink.SQLInterface at 0x7f4e60c07048>"
      ]
     },
     "execution_count": 5,
     "metadata": {},
     "output_type": "execute_result"
    }
   ],
   "source": [
    "datalink.SQLInterface(db_path='~/test_dl.db')"
   ]
  },
  {
   "cell_type": "code",
   "execution_count": 6,
   "metadata": {},
   "outputs": [],
   "source": [
    "class DataStore:\n",
    "    \"\"\"\n",
    "    Base class for datastores. Link classes should inherit from these.\n",
    "    \"\"\"\n",
    "\n",
    "    def __init__(self, **kwargs):\n",
    "        self._data = None\n",
    "        self._data_last = None\n",
    "        \n",
    "    @property\n",
    "    def data(self):\n",
    "        return self._data\n",
    "    \n",
    "class StructStore(DataStore):\n",
    "    \"\"\"\n",
    "    Class to handle a data store with a basic mapping.\n",
    "    \"\"\"\n",
    "    \n",
    "    \n",
    "    "
   ]
  },
  {
   "cell_type": "code",
   "execution_count": 7,
   "metadata": {},
   "outputs": [],
   "source": [
    "from collections import namedtuple\n",
    "\n",
    "p = namedtuple('Point', ['x', 'y'])\n",
    "n = p(x=(1,2,3), y=2)\n",
    "n2 = p(x=(1,2,3), y=2)"
   ]
  },
  {
   "cell_type": "code",
   "execution_count": 8,
   "metadata": {},
   "outputs": [
    {
     "data": {
      "text/plain": [
       "5701640225614034726"
      ]
     },
     "execution_count": 8,
     "metadata": {},
     "output_type": "execute_result"
    },
    {
     "data": {
      "text/plain": [
       "5701640225614034726"
      ]
     },
     "execution_count": 8,
     "metadata": {},
     "output_type": "execute_result"
    }
   ],
   "source": [
    "hash(n)\n",
    "hash(n2)"
   ]
  },
  {
   "cell_type": "code",
   "execution_count": 9,
   "metadata": {},
   "outputs": [
    {
     "data": {
      "text/plain": [
       "{'a': 10, 'b': [2, 3], 'c': 'a string'}"
      ]
     },
     "execution_count": 9,
     "metadata": {},
     "output_type": "execute_result"
    },
    {
     "name": "stdout",
     "output_type": "stream",
     "text": [
      "DEBUG | Call to _save_state.\n"
     ]
    },
    {
     "data": {
      "text/plain": [
       "{'a': 12, 'b': [2, 3], 'c': 'a new string'}"
      ]
     },
     "execution_count": 9,
     "metadata": {},
     "output_type": "execute_result"
    }
   ],
   "source": [
    "class DataStoreDescriptor(object):\n",
    "    \"\"\"A descriptor for the relevant key in the datastore.\"\"\"\n",
    "\n",
    "    def __init__(self, key):\n",
    "        self.key = key\n",
    "\n",
    "    def __get__(self, instance, owner):\n",
    "        return instance._data[self.key]\n",
    "\n",
    "    def __set__(self, instance, value):\n",
    "        instance._data[self.key] = value\n",
    "        if instance._has_data_updated:\n",
    "            instance._save_state()\n",
    "            instance._set_data_hash()\n",
    "\n",
    "class DataStore:\n",
    "    \"\"\"Class for a basic mapping datastore.\"\"\"\n",
    "    def __init__(self):\n",
    "        self._hash_previous = None\n",
    "        self._data = {'a': 10, 'b': [2,3], 'c': 'a string'}\n",
    "        for key in self._data:\n",
    "            if not hasattr(self.__class__, key):\n",
    "                setattr(self.__class__, key, DataStoreDescriptor(key))\n",
    "        self._get_data_hash()\n",
    "    \n",
    "    def _save_state(self):\n",
    "        log.debug('Call to _save_state.')\n",
    "    \n",
    "    @property\n",
    "    def data(self):\n",
    "        return self._data\n",
    "    \n",
    "    def update(self, config):\n",
    "        \"\"\"\n",
    "        Update multiple properties at once.\n",
    "        Only uses descriptor directly in last call for \n",
    "        one save call.\n",
    "        \"\"\"\n",
    "        for i, (k, v) in enumerate(config.items()):\n",
    "            if i == len(config)-1:\n",
    "                setattr(self, k, v)\n",
    "            else:\n",
    "                self._data[k] = v\n",
    "    \n",
    "    def _get_data_hash(self):\n",
    "        \"\"\"\n",
    "        Creates a hash of the internal datastore, casting \n",
    "        unhashable types to hashables where possible.\n",
    "        \"\"\"\n",
    "        d = copy.deepcopy(self._data)\n",
    "        \n",
    "        # First make unhashables into hashables.\n",
    "        for key, val in d.items():\n",
    "            if isinstance(val, collections.abc.Hashable):\n",
    "                continue\n",
    "            else:\n",
    "                if isinstance(val, collections.abc.Iterable):\n",
    "                    try:\n",
    "                        d[key] = tuple(val)\n",
    "                    except TypeError:\n",
    "                        raise\n",
    "        # Make a hash and assign it.\n",
    "        h = hash(json.dumps(d, sort_keys=True))\n",
    "        return h\n",
    "\n",
    "    def _set_data_hash(self):\n",
    "        self._hash_previous = self._get_data_hash()\n",
    "    \n",
    "    @property\n",
    "    def _has_data_updated(self):\n",
    "        new_hash = self._get_data_hash()\n",
    "        if new_hash == self._hash_previous:\n",
    "            return False\n",
    "        else:\n",
    "            return True\n",
    "    \n",
    "d = DataStore()\n",
    "d.data\n",
    "d.update({'a': 12, 'c': 'a new string'})\n",
    "d.data\n",
    "d.update({'a': 12, 'c': 'a new string'})\n"
   ]
  },
  {
   "cell_type": "code",
   "execution_count": null,
   "metadata": {},
   "outputs": [],
   "source": []
  }
 ],
 "metadata": {
  "kernelspec": {
   "display_name": "datalink",
   "language": "python",
   "name": "datalink"
  },
  "language_info": {
   "codemirror_mode": {
    "name": "ipython",
    "version": 3
   },
   "file_extension": ".py",
   "mimetype": "text/x-python",
   "name": "python",
   "nbconvert_exporter": "python",
   "pygments_lexer": "ipython3",
   "version": "3.7.3"
  }
 },
 "nbformat": 4,
 "nbformat_minor": 2
}
