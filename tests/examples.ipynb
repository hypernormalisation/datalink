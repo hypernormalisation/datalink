{
 "cells": [
  {
   "cell_type": "markdown",
   "metadata": {},
   "source": [
    "# `datalink`\n",
    "\n",
    "`datalink` is a simple python module that provides a way for users to generate classes that contain attributes linked to entries in a database, such as SQL.\n",
    "\n",
    "These attributes are easy to access, and their values can be mutable objects that may be changed in place, with the link to the underlying database entries maintained.\n",
    "\n",
    "By default, if the database entries in question are updated elsewhere in the program or by another actor, these interfaces will remain up-to-date."
   ]
  },
  {
   "cell_type": "code",
   "execution_count": 1,
   "metadata": {},
   "outputs": [],
   "source": [
    "import logging\n",
    "import warnings\n",
    "import datalink\n",
    "import sys\n",
    "import random\n",
    "warnings.filterwarnings('ignore')"
   ]
  },
  {
   "cell_type": "markdown",
   "metadata": {},
   "source": [
    "`datalink` supports the `logging` module"
   ]
  },
  {
   "cell_type": "code",
   "execution_count": 2,
   "metadata": {},
   "outputs": [
    {
     "name": "stdout",
     "output_type": "stream",
     "text": [
      "INFO | Test logging output from datalink.\n"
     ]
    }
   ],
   "source": [
    "logging.basicConfig(format='%(levelname)s | %(message)s',\n",
    "                    level=logging.DEBUG,\n",
    "                    stream=sys.stdout)\n",
    "log = logging.getLogger(__name__)\n",
    "datalink.test_output()\n",
    "\n",
    "# Datalink logging can be disabled with\n",
    "# logging.getLogger('datalink').propagate = False"
   ]
  },
  {
   "cell_type": "markdown",
   "metadata": {},
   "source": [
    "Datalink logging can be disabled with\n",
    "```python\n",
    "logging.getLogger('datalink').propagate = False\n",
    "```\n",
    "\n",
    "### Creating user datalink classes\n",
    "\n",
    "The `factory` method is used to create new classes that the user can utilise,\n",
    "in a similar fashion to `namedtuple`-based classes from the `collections` module.\n",
    "\n",
    "Some required arguments are:\n",
    "- `name`: the new class's name\n",
    "- `db_path`: the simple file path to the database, without any dialect-specific protocol.\n",
    "- `table_name`: the name of the table to be saved to in the database.\n",
    "\n",
    "None of the above database structures have to exist already - `datalink` will create them for you if necessary.\n",
    "\n",
    "The last required field is the `data_fields` property.\n",
    "This must be a mapping, where each database column name (and subsequent data-store variable) is a key, and the value is the default value.\n",
    "Any properties here are said to comprise the \"data-store\".\n",
    "\n",
    "If any value is to be mutable, e.g. a `list` or `dict`, then the correct python typing of that value must be given as a default, e.g. ```[]``` for a list.\n",
    "\n",
    "Immutable types can be defaulted, and changed, to any value specified, including ```None```."
   ]
  },
  {
   "cell_type": "code",
   "execution_count": 3,
   "metadata": {},
   "outputs": [],
   "source": [
    "my_order_fields ={\n",
    "    'client_name': None,\n",
    "    'shipping_address': None, \n",
    "    'items':[],\n",
    "    'cost': 0.0\n",
    "    }\n",
    "\n",
    "Order = datalink.factory(name='Order', db_path='/tmp/my_ledger.db',\n",
    "                         table_name='Orders',\n",
    "                         data_fields=my_order_fields)"
   ]
  },
  {
   "cell_type": "markdown",
   "metadata": {},
   "source": [
    "### Creating and manipulating `Order` instances\n",
    "\n",
    "Now let's make an instance of the `Order` class with the default settings."
   ]
  },
  {
   "cell_type": "code",
   "execution_count": 4,
   "metadata": {
    "scrolled": true
   },
   "outputs": [
    {
     "name": "stdout",
     "output_type": "stream",
     "text": [
      "INFO | sqlite db created at path: /tmp/my_ledger.db\n",
      "DEBUG | Creating new database entry with id 4256c6e9-6979-47e7-b483-12d744c4de78.\n"
     ]
    }
   ],
   "source": [
    "o = Order()"
   ]
  },
  {
   "cell_type": "markdown",
   "metadata": {},
   "source": [
    "As this is the first `Order` instance we have created, the associated database is created.\n",
    "The new order is also saved to the database immediately upon creation.\n",
    "The order is automatically assigned a uuid as its identifier, accessible through the read-only `id` property.\n",
    "\n",
    "Now lets alter some of the data properties of the `Order`."
   ]
  },
  {
   "cell_type": "code",
   "execution_count": 5,
   "metadata": {},
   "outputs": [
    {
     "name": "stdout",
     "output_type": "stream",
     "text": [
      "None None 0.0 []\n",
      "DEBUG | Updating existing database entry for id 4256c6e9-6979-47e7-b483-12d744c4de78.\n",
      "DEBUG | Updating existing database entry for id 4256c6e9-6979-47e7-b483-12d744c4de78.\n",
      "DEBUG | Updating existing database entry for id 4256c6e9-6979-47e7-b483-12d744c4de78.\n",
      "DEBUG | Updating existing database entry for id 4256c6e9-6979-47e7-b483-12d744c4de78.\n"
     ]
    }
   ],
   "source": [
    "print(o.client_name, o.shipping_address, o.cost, o.items)\n",
    "o.client_name = 'Alice Smith'\n",
    "o.shipping_address = '123 Leaf Avenue, Sometown'\n",
    "o.items.append('bracket')\n",
    "o.cost += 11.50"
   ]
  },
  {
   "cell_type": "markdown",
   "metadata": {},
   "source": [
    "As soon as the assignent is made to the `Order` instance's data-store attributes, the appropriate database entry is updated.\n",
    "\n",
    "The `update` method can be used with keywords to update multiple entries at once, with only \n",
    "a single write operation to the database."
   ]
  },
  {
   "cell_type": "code",
   "execution_count": 6,
   "metadata": {},
   "outputs": [
    {
     "name": "stdout",
     "output_type": "stream",
     "text": [
      "DEBUG | Updating existing database entry for id 4256c6e9-6979-47e7-b483-12d744c4de78.\n"
     ]
    }
   ],
   "source": [
    "o.update(shipping_address='123 Leaf Way, Sometown', client_name='Alice C Smith')"
   ]
  },
  {
   "cell_type": "markdown",
   "metadata": {},
   "source": [
    "A dictionary containing all data-store variables is exposed through the read-only `data` property. "
   ]
  },
  {
   "cell_type": "code",
   "execution_count": 7,
   "metadata": {},
   "outputs": [
    {
     "data": {
      "text/plain": [
       "{'client_name': 'Alice C Smith',\n",
       " 'shipping_address': '123 Leaf Way, Sometown',\n",
       " 'items': ['bracket'],\n",
       " 'cost': 11.5,\n",
       " 'id': '4256c6e9-6979-47e7-b483-12d744c4de78'}"
      ]
     },
     "execution_count": 7,
     "metadata": {},
     "output_type": "execute_result"
    }
   ],
   "source": [
    "o.data"
   ]
  },
  {
   "cell_type": "markdown",
   "metadata": {},
   "source": [
    "### Key-word data-store instantiation\n",
    "Attributes in the data-store can be defined upon the instantiation of an `Order` by key-word."
   ]
  },
  {
   "cell_type": "code",
   "execution_count": 8,
   "metadata": {},
   "outputs": [
    {
     "name": "stdout",
     "output_type": "stream",
     "text": [
      "DEBUG | Creating new database entry with id dac2db7a-a275-440a-8137-1c8808949ed7.\n"
     ]
    },
    {
     "data": {
      "text/plain": [
       "{'client_name': 'Beatrice Smith',\n",
       " 'shipping_address': None,\n",
       " 'items': ['paint_black', 'small_brush'],\n",
       " 'cost': 22.4,\n",
       " 'id': 'dac2db7a-a275-440a-8137-1c8808949ed7'}"
      ]
     },
     "execution_count": 8,
     "metadata": {},
     "output_type": "execute_result"
    }
   ],
   "source": [
    "o2 = Order(client_name='Beatrice Smith', address='456 Rock Drive, Someothertown',\n",
    "          items=['paint_black', 'small_brush'], cost=22.40)\n",
    "o2.data"
   ]
  },
  {
   "cell_type": "markdown",
   "metadata": {},
   "source": [
    "### Loading persisted orders\n",
    "\n",
    "We can use the identifier of our previous order as a positional argument to load it from the database."
   ]
  },
  {
   "cell_type": "code",
   "execution_count": 9,
   "metadata": {},
   "outputs": [
    {
     "name": "stdout",
     "output_type": "stream",
     "text": [
      "dac2db7a-a275-440a-8137-1c8808949ed7\n",
      "DEBUG | Loading data corresponding to ID: dac2db7a-a275-440a-8137-1c8808949ed7\n"
     ]
    }
   ],
   "source": [
    "print(o2.id)\n",
    "o3 = Order(o2.id)"
   ]
  },
  {
   "cell_type": "code",
   "execution_count": 10,
   "metadata": {},
   "outputs": [
    {
     "data": {
      "text/plain": [
       "{'client_name': 'Beatrice Smith',\n",
       " 'shipping_address': None,\n",
       " 'items': ['paint_black', 'small_brush'],\n",
       " 'cost': 22.4,\n",
       " 'id': 'dac2db7a-a275-440a-8137-1c8808949ed7'}"
      ]
     },
     "execution_count": 10,
     "metadata": {},
     "output_type": "execute_result"
    }
   ],
   "source": [
    "o3.data"
   ]
  },
  {
   "cell_type": "markdown",
   "metadata": {},
   "source": [
    "If the user provides the order id as a positional argument, keyword arguments can also be supplied to update data-store attributes in a single expression."
   ]
  },
  {
   "cell_type": "code",
   "execution_count": 11,
   "metadata": {},
   "outputs": [
    {
     "name": "stdout",
     "output_type": "stream",
     "text": [
      "DEBUG | Loading data corresponding to ID: dac2db7a-a275-440a-8137-1c8808949ed7\n",
      "DEBUG | Updating existing database entry for id dac2db7a-a275-440a-8137-1c8808949ed7.\n"
     ]
    },
    {
     "data": {
      "text/plain": [
       "<traits.has_traits.Order at 0x7f86cba5d110>"
      ]
     },
     "execution_count": 11,
     "metadata": {},
     "output_type": "execute_result"
    },
    {
     "data": {
      "text/plain": [
       "{'client_name': 'Beatrice Smith',\n",
       " 'shipping_address': None,\n",
       " 'items': ['paint_black', 'small_brush'],\n",
       " 'cost': 30.0,\n",
       " 'id': 'dac2db7a-a275-440a-8137-1c8808949ed7'}"
      ]
     },
     "execution_count": 11,
     "metadata": {},
     "output_type": "execute_result"
    }
   ],
   "source": [
    "Order(o3.id, cost=30.0)\n",
    "o3.data"
   ]
  },
  {
   "cell_type": "markdown",
   "metadata": {},
   "source": [
    "### Updates to interface items\n",
    "\n",
    "My default the links are bidirectional, in that not only will a change to an individual Order push a result back to the database, but any changes made to the database entry are propagated back to all related links."
   ]
  },
  {
   "cell_type": "code",
   "execution_count": 12,
   "metadata": {},
   "outputs": [
    {
     "name": "stdout",
     "output_type": "stream",
     "text": [
      "DEBUG | Updating existing database entry for id dac2db7a-a275-440a-8137-1c8808949ed7.\n",
      "{'client_name': 'Beatrice Smith', 'shipping_address': None, 'items': ['paint_black', 'small_brush', 'paint_red'], 'cost': 30.0, 'id': 'dac2db7a-a275-440a-8137-1c8808949ed7'}\n",
      "['paint_black', 'small_brush', 'paint_red']\n"
     ]
    }
   ],
   "source": [
    "o3.items.append('paint_red')\n",
    "print(o2.data) # data exposed here is guaranteed to be up-to-date.\n",
    "print(o2.items)  # data exposed here is guaranteed to be up-to-date."
   ]
  },
  {
   "cell_type": "markdown",
   "metadata": {},
   "source": [
    "To have updates only be pushed in the direction from the program using links to the database, pass ```bidirectional=False``` agrument to `datalink.factory`."
   ]
  },
  {
   "cell_type": "markdown",
   "metadata": {},
   "source": [
    "## User specified ids\n",
    "For new entries, the user can supply an id themselves as the first argument, which will override the assigned uuid."
   ]
  },
  {
   "cell_type": "code",
   "execution_count": 13,
   "metadata": {},
   "outputs": [
    {
     "name": "stdout",
     "output_type": "stream",
     "text": [
      "DEBUG | Creating new database entry with id mynewid.\n"
     ]
    }
   ],
   "source": [
    "o4 = Order('mynewid', name='Bob Smith')"
   ]
  },
  {
   "cell_type": "markdown",
   "metadata": {},
   "source": [
    "### Metadata lookup with user specified ids\n",
    "\n",
    "The property `is_new` is provided in linker classes to allow the user to determine if any data was loaded from the database in an instance, or if the instance is new.\n",
    "\n",
    "This allows for user-specified ids to be used to e.g. record data/metadata with patterns like the following"
   ]
  },
  {
   "cell_type": "code",
   "execution_count": 14,
   "metadata": {},
   "outputs": [
    {
     "name": "stdout",
     "output_type": "stream",
     "text": [
      "INFO | sqlite db created at path: /tmp/particles.db\n",
      "DEBUG | Creating new database entry with id electron.\n",
      "DEBUG | Updating existing database entry for id electron.\n",
      "DEBUG | Updating existing database entry for id electron.\n",
      "DEBUG | Creating new database entry with id proton.\n",
      "DEBUG | Updating existing database entry for id proton.\n",
      "DEBUG | Updating existing database entry for id proton.\n",
      "DEBUG | Creating new database entry with id muon.\n",
      "DEBUG | Updating existing database entry for id muon.\n",
      "DEBUG | Updating existing database entry for id muon.\n",
      "DEBUG | Creating new database entry with id neutron.\n",
      "DEBUG | Updating existing database entry for id neutron.\n",
      "DEBUG | Updating existing database entry for id neutron.\n"
     ]
    },
    {
     "data": {
      "text/plain": [
       "0.0012810827265243262"
      ]
     },
     "execution_count": 14,
     "metadata": {},
     "output_type": "execute_result"
    }
   ],
   "source": [
    "particle_defaults = {'charge': None, 'efficiency': None}\n",
    "Particle = datalink.factory(name='Particle', table_name='particles',\n",
    "                            db_path='/tmp/particles.db', data_fields=particle_defaults)\n",
    "\n",
    "def run_efficiency():\n",
    "    d = {}\n",
    "    for p in ['electron', 'proton', 'muon', 'neutron']:\n",
    "        part = Particle(p)\n",
    "        if part.is_new:\n",
    "            # Do some possibly intensive calculation here to save the properties\n",
    "            part.charge = random.choice([-1,0,1])\n",
    "            part.efficiency = random.random()\n",
    "        d[p] = part\n",
    "    # Now do something with the efficiencies. They only have to be calculated once\n",
    "    # and will be persisted afterwards.\n",
    "    proton = d['proton']\n",
    "    electron = d['electron']\n",
    "    efficiency_p_p_e = proton.efficiency * proton.efficiency * electron.efficiency\n",
    "    return efficiency_p_p_e\n",
    "\n",
    "run_efficiency()"
   ]
  },
  {
   "cell_type": "markdown",
   "metadata": {},
   "source": [
    "Now we re-run the function and we find that the stored values are loaded up\n",
    "from the database for us."
   ]
  },
  {
   "cell_type": "code",
   "execution_count": 15,
   "metadata": {},
   "outputs": [
    {
     "name": "stdout",
     "output_type": "stream",
     "text": [
      "DEBUG | Loading data corresponding to ID: electron\n",
      "DEBUG | Loading data corresponding to ID: proton\n",
      "DEBUG | Loading data corresponding to ID: muon\n",
      "DEBUG | Loading data corresponding to ID: neutron\n"
     ]
    },
    {
     "data": {
      "text/plain": [
       "0.0012810827265243262"
      ]
     },
     "execution_count": 15,
     "metadata": {},
     "output_type": "execute_result"
    }
   ],
   "source": [
    "run_efficiency()"
   ]
  }
 ],
 "metadata": {
  "kernelspec": {
   "display_name": "datalink",
   "language": "python",
   "name": "datalink"
  },
  "language_info": {
   "codemirror_mode": {
    "name": "ipython",
    "version": 3
   },
   "file_extension": ".py",
   "mimetype": "text/x-python",
   "name": "python",
   "nbconvert_exporter": "python",
   "pygments_lexer": "ipython3",
   "version": "3.7.5"
  }
 },
 "nbformat": 4,
 "nbformat_minor": 2
}
