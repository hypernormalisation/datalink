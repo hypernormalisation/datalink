{
 "cells": [
  {
   "cell_type": "markdown",
   "metadata": {},
   "source": [
    "# `datalink`\n",
    "\n",
    "`datalink` is a python module that lets you interact with entries of SQL data as if you were using dictionaries.\n",
    "\n",
    "Loading, saving, unique identification, and database management all take place behind the scenes via the excellent `dataset` module, so the user doesn't need to worry about databases at all."
   ]
  },
  {
   "cell_type": "code",
   "execution_count": 1,
   "metadata": {},
   "outputs": [],
   "source": [
    "import logging\n",
    "import warnings\n",
    "import datalink\n",
    "import sys\n",
    "import random\n",
    "warnings.filterwarnings('ignore')"
   ]
  },
  {
   "cell_type": "markdown",
   "metadata": {},
   "source": [
    "## Logging\n",
    "`datalink` supports the `logging` module"
   ]
  },
  {
   "cell_type": "code",
   "execution_count": 2,
   "metadata": {},
   "outputs": [
    {
     "name": "stdout",
     "output_type": "stream",
     "text": [
      "INFO | Test logging output from datalink.\n"
     ]
    }
   ],
   "source": [
    "logging.basicConfig(format='%(levelname)s | %(message)s',\n",
    "                    level=logging.DEBUG,\n",
    "                    stream=sys.stdout)\n",
    "log = logging.getLogger(__name__)\n",
    "datalink.test_output()"
   ]
  },
  {
   "cell_type": "markdown",
   "metadata": {},
   "source": [
    "Datalink logging can be disabled with\n",
    "```python\n",
    "logging.getLogger('datalink').propagate = False\n",
    "```"
   ]
  },
  {
   "cell_type": "markdown",
   "metadata": {},
   "source": [
    "# Creating user datalink classes\n",
    "\n",
    "The `datalink` module's `factory` function is used to create new classes that the user can utilise,\n",
    "in a similar fashion to `namedtuple`-based classes from the `collections` module.\n",
    "\n",
    "The 3 required position arguments are:\n",
    "- the class name\n",
    "- the name of the table in the database\n",
    "- the defaults for the data. This must be a mapping, where each database column name (and subsequent data-store variable) is a key, and the value is the default value.\n",
    "\n",
    "e.g.\n",
    "```python\n",
    "my_album_fields = {'title': '', 'artist': '', 'tracks': []}\n",
    "```\n",
    "\n",
    "If any value is to be mutable, e.g. a `list` or `dict`, then the correct python typing of that value must be given as a default, e.g. ```[]``` for a list.\n",
    "Immutable types can be defaulted, and changed, to any value specified, including `None`.\n",
    "\n",
    "## Database location\n",
    "Additionally, factory requires at least one of the following keyword arguments:\n",
    "- to use the file-based databases of sqlite, give a location for the database as the `database` keyword.\n",
    "- if you know the full url of the database in question, supply this via the `url` keyword.\n",
    "\n",
    "## `datalink` can create everything for you\n",
    "None of the above database structures have to exist already - `datalink` will create them for you if necessary."
   ]
  },
  {
   "cell_type": "markdown",
   "metadata": {},
   "source": [
    "# An example with factory\n",
    "\n",
    "Below we will make an example class representing a shopping order.\n",
    "\n",
    "The data will be located in an sqlite database at `/tmp/my_ledger.db`, in the table `orders`.\n",
    "\n",
    "Our class will be called \"Order\", with some information on the client and their shopping cart."
   ]
  },
  {
   "cell_type": "code",
   "execution_count": 3,
   "metadata": {},
   "outputs": [],
   "source": [
    "my_order_fields = {\n",
    "    'client_name': None,\n",
    "    'shipping_address': None, \n",
    "    'items': [],\n",
    "    'cost': 0.0\n",
    "    }\n",
    "\n",
    "Order = datalink.factory('Order', 'orders', my_order_fields, \n",
    "                         database='/tmp/my_ledger.db')"
   ]
  },
  {
   "cell_type": "markdown",
   "metadata": {},
   "source": [
    "## Creating and manipulating `Order` instances\n",
    "\n",
    "Now let's make an instance of the `Order` class with the default settings."
   ]
  },
  {
   "cell_type": "code",
   "execution_count": 4,
   "metadata": {
    "scrolled": true
   },
   "outputs": [
    {
     "name": "stdout",
     "output_type": "stream",
     "text": [
      "INFO | db created at: sqlite:////tmp/my_ledger.db\n",
      "INFO | created table orders\n",
      "DEBUG | Creating new database entry with id ac41793f-af4d-49ef-bdc4-0d807c1207c5.\n"
     ]
    }
   ],
   "source": [
    "o = Order()"
   ]
  },
  {
   "cell_type": "markdown",
   "metadata": {},
   "source": [
    "As this is the first `Order` instance we have created, the associated database is created.\n",
    "The new order is also saved to the database immediately upon creation.\n",
    "The order is automatically assigned a uuid as its identifier, accessible through the read-only `id` property.\n",
    "\n",
    "Now lets alter some of the data properties of the `Order`."
   ]
  },
  {
   "cell_type": "code",
   "execution_count": 5,
   "metadata": {},
   "outputs": [
    {
     "name": "stdout",
     "output_type": "stream",
     "text": [
      "None None 0.0 []\n",
      "DEBUG | Updating existing database entry for id ac41793f-af4d-49ef-bdc4-0d807c1207c5.\n",
      "DEBUG | Updating existing database entry for id ac41793f-af4d-49ef-bdc4-0d807c1207c5.\n",
      "DEBUG | Updating existing database entry for id ac41793f-af4d-49ef-bdc4-0d807c1207c5.\n",
      "DEBUG | Updating existing database entry for id ac41793f-af4d-49ef-bdc4-0d807c1207c5.\n"
     ]
    }
   ],
   "source": [
    "print(o.client_name, o.shipping_address, o.cost, o.items)\n",
    "o.client_name = 'Alice Smith'\n",
    "o.shipping_address = '123 Leaf Avenue, Sometown'\n",
    "o.items.append('bracket')\n",
    "o.cost += 11.50"
   ]
  },
  {
   "cell_type": "markdown",
   "metadata": {},
   "source": [
    "As soon as the assignent is made to the `Order` instance's data-store attributes, the appropriate database entry is updated.\n",
    "\n",
    "The `update` method can be used with keywords to update multiple entries at once, with only \n",
    "a single write operation to the database."
   ]
  },
  {
   "cell_type": "code",
   "execution_count": 6,
   "metadata": {},
   "outputs": [
    {
     "name": "stdout",
     "output_type": "stream",
     "text": [
      "DEBUG | Updating existing database entry for id ac41793f-af4d-49ef-bdc4-0d807c1207c5.\n"
     ]
    }
   ],
   "source": [
    "o.update(shipping_address='123 Leaf Way, Sometown', client_name='Alice C Smith')"
   ]
  },
  {
   "cell_type": "markdown",
   "metadata": {},
   "source": [
    "A dictionary containing all data-store variables is exposed through the read-only `data` property. "
   ]
  },
  {
   "cell_type": "code",
   "execution_count": 7,
   "metadata": {},
   "outputs": [
    {
     "data": {
      "text/plain": [
       "{'client_name': 'Alice C Smith',\n",
       " 'shipping_address': '123 Leaf Way, Sometown',\n",
       " 'items': ['bracket'],\n",
       " 'cost': 11.5,\n",
       " 'id': 'ac41793f-af4d-49ef-bdc4-0d807c1207c5'}"
      ]
     },
     "execution_count": 7,
     "metadata": {},
     "output_type": "execute_result"
    }
   ],
   "source": [
    "o.data"
   ]
  },
  {
   "cell_type": "markdown",
   "metadata": {},
   "source": [
    "### Key-word data-store instantiation\n",
    "Attributes in the data-store can be defined upon the instantiation of an `Order` by key-word."
   ]
  },
  {
   "cell_type": "code",
   "execution_count": 8,
   "metadata": {},
   "outputs": [
    {
     "name": "stdout",
     "output_type": "stream",
     "text": [
      "DEBUG | Creating new database entry with id 605cadde-c820-4130-bb8f-646e34981085.\n"
     ]
    },
    {
     "data": {
      "text/plain": [
       "{'client_name': 'Beatrice Smith',\n",
       " 'shipping_address': None,\n",
       " 'items': ['paint_black', 'small_brush'],\n",
       " 'cost': 22.4,\n",
       " 'id': '605cadde-c820-4130-bb8f-646e34981085'}"
      ]
     },
     "execution_count": 8,
     "metadata": {},
     "output_type": "execute_result"
    }
   ],
   "source": [
    "o2 = Order(client_name='Beatrice Smith', address='456 Rock Drive, Someothertown',\n",
    "          items=['paint_black', 'small_brush'], cost=22.40)\n",
    "o2.data"
   ]
  },
  {
   "cell_type": "markdown",
   "metadata": {},
   "source": [
    "### Loading persisted orders\n",
    "\n",
    "We can use the identifier of our previous order as a positional argument to load it from the database."
   ]
  },
  {
   "cell_type": "code",
   "execution_count": 9,
   "metadata": {},
   "outputs": [
    {
     "name": "stdout",
     "output_type": "stream",
     "text": [
      "605cadde-c820-4130-bb8f-646e34981085\n",
      "DEBUG | Loaded data corresponding to ID: 605cadde-c820-4130-bb8f-646e34981085\n"
     ]
    }
   ],
   "source": [
    "print(o2.id)\n",
    "o3 = Order(o2.id)"
   ]
  },
  {
   "cell_type": "code",
   "execution_count": 10,
   "metadata": {},
   "outputs": [
    {
     "data": {
      "text/plain": [
       "{'client_name': 'Beatrice Smith',\n",
       " 'shipping_address': None,\n",
       " 'items': ['paint_black', 'small_brush'],\n",
       " 'cost': 22.4,\n",
       " 'id': '605cadde-c820-4130-bb8f-646e34981085'}"
      ]
     },
     "execution_count": 10,
     "metadata": {},
     "output_type": "execute_result"
    }
   ],
   "source": [
    "o3.data"
   ]
  },
  {
   "cell_type": "markdown",
   "metadata": {},
   "source": [
    "If the user provides the order id as a positional argument, keyword arguments can also be supplied to update data-store attributes in a single expression."
   ]
  },
  {
   "cell_type": "code",
   "execution_count": 11,
   "metadata": {},
   "outputs": [
    {
     "name": "stdout",
     "output_type": "stream",
     "text": [
      "DEBUG | Loaded data corresponding to ID: 605cadde-c820-4130-bb8f-646e34981085\n",
      "DEBUG | Updating existing database entry for id 605cadde-c820-4130-bb8f-646e34981085.\n"
     ]
    },
    {
     "data": {
      "text/plain": [
       "<traits.has_traits.Order at 0x7f58b4ae1e30>"
      ]
     },
     "execution_count": 11,
     "metadata": {},
     "output_type": "execute_result"
    },
    {
     "data": {
      "text/plain": [
       "{'client_name': 'Beatrice Smith',\n",
       " 'shipping_address': None,\n",
       " 'items': ['paint_black', 'small_brush'],\n",
       " 'cost': 30.0,\n",
       " 'id': '605cadde-c820-4130-bb8f-646e34981085'}"
      ]
     },
     "execution_count": 11,
     "metadata": {},
     "output_type": "execute_result"
    }
   ],
   "source": [
    "Order(o3.id, cost=30.0)\n",
    "o3.data"
   ]
  },
  {
   "cell_type": "markdown",
   "metadata": {},
   "source": [
    "### Updates to interface items\n",
    "\n",
    "My default the links are bidirectional, in that not only will a change to an individual Order push a result back to the database, but any changes made to the database entry are propagated back to all related links."
   ]
  },
  {
   "cell_type": "code",
   "execution_count": 12,
   "metadata": {},
   "outputs": [
    {
     "name": "stdout",
     "output_type": "stream",
     "text": [
      "DEBUG | Updating existing database entry for id 605cadde-c820-4130-bb8f-646e34981085.\n",
      "{'client_name': 'Beatrice Smith', 'shipping_address': None, 'items': ['paint_black', 'small_brush', 'paint_red'], 'cost': 30.0, 'id': '605cadde-c820-4130-bb8f-646e34981085'}\n",
      "['paint_black', 'small_brush', 'paint_red']\n"
     ]
    }
   ],
   "source": [
    "o3.items.append('paint_red')\n",
    "print(o2.data) # data exposed here is guaranteed to be up-to-date.\n",
    "print(o2.items)  # data exposed here is guaranteed to be up-to-date."
   ]
  },
  {
   "cell_type": "markdown",
   "metadata": {},
   "source": [
    "To have updates only be pushed in the direction from the program using links to the database, pass ```bidirectional=False``` agrument to `datalink.factory`."
   ]
  },
  {
   "cell_type": "markdown",
   "metadata": {},
   "source": [
    "## User specified ids\n",
    "For new entries, the user can supply an id themselves as the first argument, which will override the assigned uuid."
   ]
  },
  {
   "cell_type": "code",
   "execution_count": 13,
   "metadata": {},
   "outputs": [
    {
     "name": "stdout",
     "output_type": "stream",
     "text": [
      "DEBUG | Creating new database entry with id mynewid.\n"
     ]
    }
   ],
   "source": [
    "o4 = Order('mynewid', name='Bob Smith')"
   ]
  },
  {
   "cell_type": "markdown",
   "metadata": {},
   "source": [
    "### Metadata lookup with user specified ids\n",
    "\n",
    "The class's boolean is overridden to detect if any data was loaded from the database, returning `True` if the internal data was loaded from the database, and `False` if the data within the instance is new.\n",
    "\n",
    "This allows for user-specified ids to be used to record data/metadata which is intensive to calculate.\n",
    "\n",
    "We give the example below of detecting particles in a detector with some efficiency response that is hard to compute:"
   ]
  },
  {
   "cell_type": "code",
   "execution_count": 14,
   "metadata": {},
   "outputs": [],
   "source": [
    "# Make a new container to represent a particle.\n",
    "particle_defaults = {'efficiency': None}\n",
    "Particle = datalink.factory('Particle','particles', particle_defaults,\n",
    "                            database='/tmp/particles.db')\n",
    "\n",
    "from functools import reduce\n",
    "logging.getLogger().setLevel(logging.INFO) # suppress datalink debug logging\n",
    "\n",
    "def assign_efficiency(part):\n",
    "    '''Some dummy function that is time consuming.'''\n",
    "    print(f'Doing an intensive calculation for {part.id} efficiency response.')\n",
    "    part.efficiency = random.random()    \n",
    "\n",
    "def get_efficiency(*particles):\n",
    "    ''' Calculate the efficiency of detecting an event with the input particles'''\n",
    "    d = {}\n",
    "    for p in particles:\n",
    "        if p not in d:\n",
    "            part = Particle(p)\n",
    "            if not part:\n",
    "                assign_efficiency(part)\n",
    "            d[p] = part\n",
    "    efficiency = reduce(lambda x, y: x*y, [d[p].efficiency for p in particles])\n",
    "    for p in set(particles):\n",
    "        print(f'efficiency for {p} = {d[p].efficiency}')\n",
    "    print(f'efficiency for {particles} = {efficiency}')"
   ]
  },
  {
   "cell_type": "code",
   "execution_count": 15,
   "metadata": {},
   "outputs": [
    {
     "name": "stdout",
     "output_type": "stream",
     "text": [
      "INFO | db created at: sqlite:////tmp/particles.db\n",
      "INFO | created table particles\n",
      "Doing an intensive calculation for proton efficiency response.\n",
      "Doing an intensive calculation for electron efficiency response.\n",
      "efficiency for proton = 0.834742453258431\n",
      "efficiency for electron = 0.782964970609321\n",
      "efficiency for ('proton', 'proton', 'electron') = 0.5455660479389091\n"
     ]
    }
   ],
   "source": [
    "get_efficiency('proton', 'proton', 'electron')"
   ]
  },
  {
   "cell_type": "markdown",
   "metadata": {},
   "source": [
    "Now we calculate another efficiency and find that the stored values for protons are reused."
   ]
  },
  {
   "cell_type": "code",
   "execution_count": 16,
   "metadata": {},
   "outputs": [
    {
     "name": "stdout",
     "output_type": "stream",
     "text": [
      "Doing an intensive calculation for muon efficiency response.\n",
      "efficiency for proton = 0.834742453258431\n",
      "efficiency for muon = 0.926626185771311\n",
      "efficiency for ('proton', 'proton', 'muon') = 0.645668459081305\n"
     ]
    }
   ],
   "source": [
    "get_efficiency('proton', 'proton', 'muon')"
   ]
  },
  {
   "cell_type": "code",
   "execution_count": 17,
   "metadata": {},
   "outputs": [
    {
     "name": "stdout",
     "output_type": "stream",
     "text": [
      "efficiency for proton = 0.834742453258431\n",
      "efficiency for muon = 0.926626185771311\n",
      "efficiency for electron = 0.782964970609321\n",
      "efficiency for ('electron', 'proton', 'muon') = 0.6056188757557402\n"
     ]
    }
   ],
   "source": [
    "get_efficiency('electron', 'proton', 'muon')"
   ]
  }
 ],
 "metadata": {
  "kernelspec": {
   "display_name": "datalink",
   "language": "python",
   "name": "datalink"
  },
  "language_info": {
   "codemirror_mode": {
    "name": "ipython",
    "version": 3
   },
   "file_extension": ".py",
   "mimetype": "text/x-python",
   "name": "python",
   "nbconvert_exporter": "python",
   "pygments_lexer": "ipython3",
   "version": "3.7.5"
  }
 },
 "nbformat": 4,
 "nbformat_minor": 2
}
